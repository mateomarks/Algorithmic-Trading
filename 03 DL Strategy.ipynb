{
 "cells": [
  {
   "cell_type": "markdown",
   "metadata": {},
   "source": [
    "<a href=\"http://www.road2quant.com\">\n",
    "    <img src=\"https://uploads-ssl.webflow.com/5eae007d92687089219c5dec/5eb47da29ced78042e9768ce_long_logo.png\" target=\"_blank\" align=\"right\" border=\"0\" width=\"35%\" >\n",
    "</a>"
   ]
  },
  {
   "cell_type": "markdown",
   "metadata": {},
   "source": [
    "# Deep Learning Based Strategy"
   ]
  },
  {
   "cell_type": "markdown",
   "metadata": {},
   "source": [
    "How to predict Stocks Returns with Neuronal Networks"
   ]
  },
  {
   "cell_type": "code",
   "execution_count": 2,
   "metadata": {},
   "outputs": [],
   "source": [
    "import yfinance as yf\n",
    "import numpy as np\n",
    "import pandas as pd\n",
    "import matplotlib.pyplot as plt"
   ]
  },
  {
   "cell_type": "code",
   "execution_count": 3,
   "metadata": {},
   "outputs": [],
   "source": [
    "import tensorflow as tf\n",
    "from tensorflow import keras"
   ]
  },
  {
   "cell_type": "code",
   "execution_count": 4,
   "metadata": {},
   "outputs": [],
   "source": [
    "plt.style.use('seaborn')\n",
    "plt.rcParams['font.family'] = 'serif'\n",
    "%matplotlib inline\n",
    "\n",
    "SMALL_SIZE = 14; MEDIUM_SIZE = 16; BIGGER_SIZE = 18\n",
    "\n",
    "plt.rc('font', size=SMALL_SIZE)          # controls default text sizes\n",
    "plt.rc('axes', titlesize=SMALL_SIZE)     # fontsize of the axes title\n",
    "plt.rc('axes', labelsize=MEDIUM_SIZE)    # fontsize of the x and y labels\n",
    "plt.rc('xtick', labelsize=SMALL_SIZE)    # fontsize of the tick labels\n",
    "plt.rc('ytick', labelsize=SMALL_SIZE)    # fontsize of the tick labels\n",
    "plt.rc('legend', fontsize=SMALL_SIZE)    # legend fontsize\n",
    "plt.rc('figure', titlesize=BIGGER_SIZE)  # fontsize of the figure title\n",
    "plt.rc('figure', figsize=(10,6))         # size fo the graph"
   ]
  },
  {
   "cell_type": "code",
   "execution_count": 9,
   "metadata": {},
   "outputs": [
    {
     "name": "stdout",
     "output_type": "stream",
     "text": [
      "[*********************100%***********************]  1 of 1 completed\n"
     ]
    }
   ],
   "source": [
    "symbol = [\"MSFT\"]\n",
    "rawdata = yf.download(symbol, start=\"2020-07-01\", end=\"2020-07-25\", interval = \"5m\")"
   ]
  },
  {
   "cell_type": "code",
   "execution_count": 10,
   "metadata": {},
   "outputs": [],
   "source": [
    "rawdata = pd.DataFrame(rawdata['Close'])\n",
    "rawdata.columns = ['price']"
   ]
  },
  {
   "cell_type": "code",
   "execution_count": 11,
   "metadata": {},
   "outputs": [
    {
     "name": "stdout",
     "output_type": "stream",
     "text": [
      "<class 'pandas.core.frame.DataFrame'>\n",
      "DatetimeIndex: 1326 entries, 2020-07-01 09:30:00-04:00 to 2020-07-28 09:43:21-04:00\n",
      "Data columns (total 1 columns):\n",
      " #   Column  Non-Null Count  Dtype  \n",
      "---  ------  --------------  -----  \n",
      " 0   price   1326 non-null   float64\n",
      "dtypes: float64(1)\n",
      "memory usage: 20.7 KB\n"
     ]
    }
   ],
   "source": [
    "rawdata.info()"
   ]
  },
  {
   "cell_type": "code",
   "execution_count": 12,
   "metadata": {},
   "outputs": [
    {
     "data": {
      "text/html": [
       "<div>\n",
       "<style scoped>\n",
       "    .dataframe tbody tr th:only-of-type {\n",
       "        vertical-align: middle;\n",
       "    }\n",
       "\n",
       "    .dataframe tbody tr th {\n",
       "        vertical-align: top;\n",
       "    }\n",
       "\n",
       "    .dataframe thead th {\n",
       "        text-align: right;\n",
       "    }\n",
       "</style>\n",
       "<table border=\"1\" class=\"dataframe\">\n",
       "  <thead>\n",
       "    <tr style=\"text-align: right;\">\n",
       "      <th></th>\n",
       "      <th>price</th>\n",
       "      <th>returns</th>\n",
       "      <th>direction</th>\n",
       "      <th>SMA1</th>\n",
       "      <th>SMA2</th>\n",
       "      <th>dSMA</th>\n",
       "      <th>EWMA1</th>\n",
       "      <th>EWMA2</th>\n",
       "      <th>dEWMA</th>\n",
       "      <th>vol1</th>\n",
       "      <th>vol2</th>\n",
       "    </tr>\n",
       "    <tr>\n",
       "      <th>Datetime</th>\n",
       "      <th></th>\n",
       "      <th></th>\n",
       "      <th></th>\n",
       "      <th></th>\n",
       "      <th></th>\n",
       "      <th></th>\n",
       "      <th></th>\n",
       "      <th></th>\n",
       "      <th></th>\n",
       "      <th></th>\n",
       "      <th></th>\n",
       "    </tr>\n",
       "  </thead>\n",
       "  <tbody>\n",
       "    <tr>\n",
       "      <th>2020-07-01 14:30:00-04:00</th>\n",
       "      <td>205.690002</td>\n",
       "      <td>-0.000049</td>\n",
       "      <td>0</td>\n",
       "      <td>205.073505</td>\n",
       "      <td>204.542465</td>\n",
       "      <td>0.531039</td>\n",
       "      <td>204.902730</td>\n",
       "      <td>204.676513</td>\n",
       "      <td>0.226217</td>\n",
       "      <td>0.521942</td>\n",
       "      <td>0.848835</td>\n",
       "    </tr>\n",
       "    <tr>\n",
       "      <th>2020-07-01 14:35:00-04:00</th>\n",
       "      <td>205.550095</td>\n",
       "      <td>-0.000680</td>\n",
       "      <td>0</td>\n",
       "      <td>205.123505</td>\n",
       "      <td>204.586577</td>\n",
       "      <td>0.536928</td>\n",
       "      <td>204.933230</td>\n",
       "      <td>204.699530</td>\n",
       "      <td>0.233699</td>\n",
       "      <td>0.531088</td>\n",
       "      <td>0.838313</td>\n",
       "    </tr>\n",
       "    <tr>\n",
       "      <th>2020-07-01 14:40:00-04:00</th>\n",
       "      <td>205.440002</td>\n",
       "      <td>-0.000536</td>\n",
       "      <td>0</td>\n",
       "      <td>205.163010</td>\n",
       "      <td>204.640412</td>\n",
       "      <td>0.522598</td>\n",
       "      <td>204.957017</td>\n",
       "      <td>204.718633</td>\n",
       "      <td>0.238384</td>\n",
       "      <td>0.532010</td>\n",
       "      <td>0.792769</td>\n",
       "    </tr>\n",
       "    <tr>\n",
       "      <th>2020-07-01 14:45:00-04:00</th>\n",
       "      <td>205.529999</td>\n",
       "      <td>0.000438</td>\n",
       "      <td>1</td>\n",
       "      <td>205.210260</td>\n",
       "      <td>204.676532</td>\n",
       "      <td>0.533728</td>\n",
       "      <td>204.975558</td>\n",
       "      <td>204.734658</td>\n",
       "      <td>0.240899</td>\n",
       "      <td>0.511113</td>\n",
       "      <td>0.778647</td>\n",
       "    </tr>\n",
       "    <tr>\n",
       "      <th>2020-07-01 14:50:00-04:00</th>\n",
       "      <td>205.600006</td>\n",
       "      <td>0.000341</td>\n",
       "      <td>1</td>\n",
       "      <td>205.277760</td>\n",
       "      <td>204.723032</td>\n",
       "      <td>0.554729</td>\n",
       "      <td>204.996750</td>\n",
       "      <td>204.752140</td>\n",
       "      <td>0.244611</td>\n",
       "      <td>0.453823</td>\n",
       "      <td>0.743557</td>\n",
       "    </tr>\n",
       "  </tbody>\n",
       "</table>\n",
       "</div>"
      ],
      "text/plain": [
       "                                price   returns  direction        SMA1  \\\n",
       "Datetime                                                                 \n",
       "2020-07-01 14:30:00-04:00  205.690002 -0.000049          0  205.073505   \n",
       "2020-07-01 14:35:00-04:00  205.550095 -0.000680          0  205.123505   \n",
       "2020-07-01 14:40:00-04:00  205.440002 -0.000536          0  205.163010   \n",
       "2020-07-01 14:45:00-04:00  205.529999  0.000438          1  205.210260   \n",
       "2020-07-01 14:50:00-04:00  205.600006  0.000341          1  205.277760   \n",
       "\n",
       "                                 SMA2      dSMA       EWMA1       EWMA2  \\\n",
       "Datetime                                                                  \n",
       "2020-07-01 14:30:00-04:00  204.542465  0.531039  204.902730  204.676513   \n",
       "2020-07-01 14:35:00-04:00  204.586577  0.536928  204.933230  204.699530   \n",
       "2020-07-01 14:40:00-04:00  204.640412  0.522598  204.957017  204.718633   \n",
       "2020-07-01 14:45:00-04:00  204.676532  0.533728  204.975558  204.734658   \n",
       "2020-07-01 14:50:00-04:00  204.723032  0.554729  204.996750  204.752140   \n",
       "\n",
       "                              dEWMA      vol1      vol2  \n",
       "Datetime                                                 \n",
       "2020-07-01 14:30:00-04:00  0.226217  0.521942  0.848835  \n",
       "2020-07-01 14:35:00-04:00  0.233699  0.531088  0.838313  \n",
       "2020-07-01 14:40:00-04:00  0.238384  0.532010  0.792769  \n",
       "2020-07-01 14:45:00-04:00  0.240899  0.511113  0.778647  \n",
       "2020-07-01 14:50:00-04:00  0.244611  0.453823  0.743557  "
      ]
     },
     "execution_count": 12,
     "metadata": {},
     "output_type": "execute_result"
    }
   ],
   "source": [
    "data = rawdata.copy()\n",
    "data['returns'] = np.log(data/data.shift(1))\n",
    "data['direction'] = np.where(data['returns'] > 0 , 1,0)\n",
    "\n",
    "\n",
    "# Calculates Simple Moving Averages with a long and a short window\n",
    "data['SMA1'] = data['price'].rolling(20).mean().shift(1)\n",
    "data['SMA2'] = data['price'].rolling(60).mean().shift(1)\n",
    "data['dSMA'] = data['SMA1'] - data['SMA2']\n",
    "\n",
    "# Calculates Equally Weighted Moving Average with a long and a short halflife\n",
    "data['EWMA1'] = data['price'].ewm(halflife=20).mean().shift(1)\n",
    "data['EWMA2'] = data['price'].ewm(halflife=60).mean().shift(1)\n",
    "data['dEWMA'] = data['EWMA1'] - data['EWMA2']\n",
    "\n",
    "# Calculates the moving standard deviation\n",
    "data['vol1'] = data['price'].rolling(20).std().shift(1)\n",
    "data['vol2'] = data['price'].rolling(60).std().shift(1)\n",
    "\n",
    "# Deletes NA rows\n",
    "data.dropna(inplace=True)\n",
    "\n",
    "data.head()"
   ]
  },
  {
   "cell_type": "code",
   "execution_count": 13,
   "metadata": {},
   "outputs": [],
   "source": [
    "split = int(len(data) * 0.7)\n",
    "train = data.iloc[:split].copy()\n",
    "test = data.iloc[split:].copy()"
   ]
  },
  {
   "cell_type": "code",
   "execution_count": 14,
   "metadata": {},
   "outputs": [
    {
     "data": {
      "text/plain": [
       "(886, 11)"
      ]
     },
     "execution_count": 14,
     "metadata": {},
     "output_type": "execute_result"
    }
   ],
   "source": [
    "train.shape"
   ]
  },
  {
   "cell_type": "code",
   "execution_count": 15,
   "metadata": {},
   "outputs": [
    {
     "data": {
      "text/plain": [
       "(380, 11)"
      ]
     },
     "execution_count": 15,
     "metadata": {},
     "output_type": "execute_result"
    }
   ],
   "source": [
    "test.shape"
   ]
  },
  {
   "cell_type": "code",
   "execution_count": 16,
   "metadata": {},
   "outputs": [],
   "source": [
    "features = list(data.columns)\n",
    "cols = list(data.columns)\n",
    "for f in features:    \n",
    "    #Create lags\n",
    "    for lag in range(1, 5 + 1):\n",
    "        col = f'{f}_lag_{lag}'\n",
    "        cols.append(col)\n",
    "        train[col] = train[f].shift(lag)\n",
    "        test[col] = test[f].shift(lag)\n",
    "\n",
    "train.dropna(inplace=True)\n",
    "test.dropna(inplace=True)   \n",
    "\n",
    "#Normalizes variables\n",
    "for f in cols:    \n",
    "    if 'rets' not in f and 'direction' not in f:\n",
    "        Tmean = train[f].mean()\n",
    "        Tstd  = train[f].std()\n",
    "        train[f]= (train[f] - Tmean) / Tstd\n",
    "        test[f] = (test[f]  - Tmean) / Tstd    "
   ]
  },
  {
   "cell_type": "code",
   "execution_count": 17,
   "metadata": {},
   "outputs": [],
   "source": [
    "y_train = pd.DataFrame(train['direction'])\n",
    "y_test = pd.DataFrame(test['direction'])\n",
    "X_train = train.drop(columns=['direction','returns','price']).copy()\n",
    "X_test = test.drop(columns=['direction','returns','price']).copy()"
   ]
  },
  {
   "cell_type": "code",
   "execution_count": 18,
   "metadata": {},
   "outputs": [
    {
     "name": "stdout",
     "output_type": "stream",
     "text": [
      "<class 'pandas.core.frame.DataFrame'>\n",
      "DatetimeIndex: 881 entries, 2020-07-01 14:55:00-04:00 to 2020-07-20 10:20:00-04:00\n",
      "Data columns (total 63 columns):\n",
      " #   Column           Non-Null Count  Dtype  \n",
      "---  ------           --------------  -----  \n",
      " 0   SMA1             881 non-null    float64\n",
      " 1   SMA2             881 non-null    float64\n",
      " 2   dSMA             881 non-null    float64\n",
      " 3   EWMA1            881 non-null    float64\n",
      " 4   EWMA2            881 non-null    float64\n",
      " 5   dEWMA            881 non-null    float64\n",
      " 6   vol1             881 non-null    float64\n",
      " 7   vol2             881 non-null    float64\n",
      " 8   price_lag_1      881 non-null    float64\n",
      " 9   price_lag_2      881 non-null    float64\n",
      " 10  price_lag_3      881 non-null    float64\n",
      " 11  price_lag_4      881 non-null    float64\n",
      " 12  price_lag_5      881 non-null    float64\n",
      " 13  returns_lag_1    881 non-null    float64\n",
      " 14  returns_lag_2    881 non-null    float64\n",
      " 15  returns_lag_3    881 non-null    float64\n",
      " 16  returns_lag_4    881 non-null    float64\n",
      " 17  returns_lag_5    881 non-null    float64\n",
      " 18  direction_lag_1  881 non-null    float64\n",
      " 19  direction_lag_2  881 non-null    float64\n",
      " 20  direction_lag_3  881 non-null    float64\n",
      " 21  direction_lag_4  881 non-null    float64\n",
      " 22  direction_lag_5  881 non-null    float64\n",
      " 23  SMA1_lag_1       881 non-null    float64\n",
      " 24  SMA1_lag_2       881 non-null    float64\n",
      " 25  SMA1_lag_3       881 non-null    float64\n",
      " 26  SMA1_lag_4       881 non-null    float64\n",
      " 27  SMA1_lag_5       881 non-null    float64\n",
      " 28  SMA2_lag_1       881 non-null    float64\n",
      " 29  SMA2_lag_2       881 non-null    float64\n",
      " 30  SMA2_lag_3       881 non-null    float64\n",
      " 31  SMA2_lag_4       881 non-null    float64\n",
      " 32  SMA2_lag_5       881 non-null    float64\n",
      " 33  dSMA_lag_1       881 non-null    float64\n",
      " 34  dSMA_lag_2       881 non-null    float64\n",
      " 35  dSMA_lag_3       881 non-null    float64\n",
      " 36  dSMA_lag_4       881 non-null    float64\n",
      " 37  dSMA_lag_5       881 non-null    float64\n",
      " 38  EWMA1_lag_1      881 non-null    float64\n",
      " 39  EWMA1_lag_2      881 non-null    float64\n",
      " 40  EWMA1_lag_3      881 non-null    float64\n",
      " 41  EWMA1_lag_4      881 non-null    float64\n",
      " 42  EWMA1_lag_5      881 non-null    float64\n",
      " 43  EWMA2_lag_1      881 non-null    float64\n",
      " 44  EWMA2_lag_2      881 non-null    float64\n",
      " 45  EWMA2_lag_3      881 non-null    float64\n",
      " 46  EWMA2_lag_4      881 non-null    float64\n",
      " 47  EWMA2_lag_5      881 non-null    float64\n",
      " 48  dEWMA_lag_1      881 non-null    float64\n",
      " 49  dEWMA_lag_2      881 non-null    float64\n",
      " 50  dEWMA_lag_3      881 non-null    float64\n",
      " 51  dEWMA_lag_4      881 non-null    float64\n",
      " 52  dEWMA_lag_5      881 non-null    float64\n",
      " 53  vol1_lag_1       881 non-null    float64\n",
      " 54  vol1_lag_2       881 non-null    float64\n",
      " 55  vol1_lag_3       881 non-null    float64\n",
      " 56  vol1_lag_4       881 non-null    float64\n",
      " 57  vol1_lag_5       881 non-null    float64\n",
      " 58  vol2_lag_1       881 non-null    float64\n",
      " 59  vol2_lag_2       881 non-null    float64\n",
      " 60  vol2_lag_3       881 non-null    float64\n",
      " 61  vol2_lag_4       881 non-null    float64\n",
      " 62  vol2_lag_5       881 non-null    float64\n",
      "dtypes: float64(63)\n",
      "memory usage: 440.5 KB\n"
     ]
    }
   ],
   "source": [
    "X_train.info()"
   ]
  },
  {
   "cell_type": "code",
   "execution_count": 19,
   "metadata": {},
   "outputs": [],
   "source": [
    "split = int(len(X_train) * 0.7)\n",
    "partial_X_train = X_train.iloc[split:].copy()\n",
    "X_val = X_train.iloc[:split].copy()\n",
    "partial_y_train = y_train.iloc[split:].copy()\n",
    "y_val = y_train.iloc[:split].copy()"
   ]
  },
  {
   "cell_type": "code",
   "execution_count": 20,
   "metadata": {},
   "outputs": [
    {
     "name": "stderr",
     "output_type": "stream",
     "text": [
      "Using TensorFlow backend.\n"
     ]
    }
   ],
   "source": [
    "from keras.layers import Dense\n",
    "from keras.models import Sequential\n",
    "from sklearn.metrics import accuracy_score"
   ]
  },
  {
   "cell_type": "code",
   "execution_count": 37,
   "metadata": {},
   "outputs": [],
   "source": [
    "def create_model():\n",
    "  \n",
    "    model = Sequential()\n",
    "    \n",
    "    model.add(Dense(64, input_dim=63, activation='relu'))\n",
    "#    model.add(Dense(128, activation='relu'))  \n",
    "        \n",
    "    model.add(Dense(1, activation='sigmoid'))  \n",
    "    \n",
    "    model.compile(loss='binary_crossentropy',  \n",
    "                           optimizer='adam',  \n",
    "                           metrics=['acc'])  \n",
    "    return model"
   ]
  },
  {
   "cell_type": "code",
   "execution_count": 38,
   "metadata": {},
   "outputs": [],
   "source": [
    "model = create_model()"
   ]
  },
  {
   "cell_type": "code",
   "execution_count": 39,
   "metadata": {},
   "outputs": [],
   "source": [
    "history = model.fit(partial_X_train, \n",
    "                          partial_y_train, \n",
    "                          epochs=20, \n",
    "                          verbose=False,\n",
    "                          validation_data=(X_val,y_val))"
   ]
  },
  {
   "cell_type": "code",
   "execution_count": 40,
   "metadata": {},
   "outputs": [
    {
     "name": "stdout",
     "output_type": "stream",
     "text": [
      "881/881 [==============================] - 0s 52us/step\n"
     ]
    },
    {
     "data": {
      "text/plain": [
       "[0.7022278356903934, 0.5595913529396057]"
      ]
     },
     "execution_count": 40,
     "metadata": {},
     "output_type": "execute_result"
    }
   ],
   "source": [
    "#Returns the loss value & metrics values for the model in test mode.\n",
    "model.evaluate(X_train, y_train)"
   ]
  },
  {
   "cell_type": "code",
   "execution_count": 41,
   "metadata": {},
   "outputs": [
    {
     "data": {
      "text/plain": [
       "0.5173333333333333"
      ]
     },
     "execution_count": 41,
     "metadata": {},
     "output_type": "execute_result"
    }
   ],
   "source": [
    "accuracy_score(model.predict(X_test).round(), y_test)"
   ]
  },
  {
   "cell_type": "code",
   "execution_count": 42,
   "metadata": {},
   "outputs": [],
   "source": [
    "history_dict = history.history\n",
    "loss_values = history_dict['loss']\n",
    "val_loss_values = history_dict['val_loss']\n",
    "\n",
    "acc_values = history_dict['acc']\n",
    "val_acc_values = history_dict['val_acc']\n",
    "\n",
    "epochs = range(1, len(history_dict['acc']) + 1)"
   ]
  },
  {
   "cell_type": "code",
   "execution_count": 43,
   "metadata": {},
   "outputs": [
    {
     "data": {
      "image/png": "[encoded data removed]",
      "text/plain": [
       "<Figure size 720x432 with 1 Axes>"
      ]
     },
     "metadata": {
      "needs_background": "light"
     },
     "output_type": "display_data"
    }
   ],
   "source": [
    "plt.plot(epochs, loss_values,'bo', label='Training loss')\n",
    "plt.plot(epochs, val_loss_values,'b', label='Validation loss')\n",
    "plt.title('Training and Validation loss')\n",
    "plt.xlabel('Epochs')\n",
    "plt.ylabel('Loss')\n",
    "plt.legend()\n",
    "plt.show()"
   ]
  },
  {
   "cell_type": "code",
   "execution_count": 44,
   "metadata": {},
   "outputs": [
    {
     "data": {
      "image/png": "[encoded data removed]",
      "text/plain": [
       "<Figure size 720x432 with 1 Axes>"
      ]
     },
     "metadata": {
      "needs_background": "light"
     },
     "output_type": "display_data"
    }
   ],
   "source": [
    "plt.plot(epochs, acc_values,'bo', label='Training acc')\n",
    "plt.plot(epochs, val_acc_values,'b', label='Validation acc')\n",
    "plt.title('Training and Validation acc')\n",
    "plt.xlabel('Epochs')\n",
    "plt.ylabel('Acc')\n",
    "plt.legend()\n",
    "plt.show()"
   ]
  },
  {
   "cell_type": "code",
   "execution_count": null,
   "metadata": {},
   "outputs": [],
   "source": []
  },
  {
   "cell_type": "code",
   "execution_count": null,
   "metadata": {},
   "outputs": [],
   "source": []
  },
  {
   "cell_type": "code",
   "execution_count": null,
   "metadata": {},
   "outputs": [],
   "source": []
  }
 ],
 "metadata": {
  "kernelspec": {
   "display_name": "Python 3",
   "language": "python",
   "name": "python3"
  },
  "language_info": {
   "codemirror_mode": {
    "name": "ipython",
    "version": 3
   },
   "file_extension": ".py",
   "mimetype": "text/x-python",
   "name": "python",
   "nbconvert_exporter": "python",
   "pygments_lexer": "ipython3",
   "version": "3.7.7"
  }
 },
 "nbformat": 4,
 "nbformat_minor": 4
}
