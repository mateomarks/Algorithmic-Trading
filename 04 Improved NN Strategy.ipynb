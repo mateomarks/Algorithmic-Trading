{
 "cells": [
  {
   "cell_type": "markdown",
   "metadata": {},
   "source": [
    "<a href=\"http://www.road2quant.com\">\n",
    "    <img src=\"https://uploads-ssl.webflow.com/5eae007d92687089219c5dec/5eb47da29ced78042e9768ce_long_logo.png\" target=\"_blank\" align=\"right\" border=\"0\" width=\"35%\" >\n",
    "</a>"
   ]
  },
  {
   "cell_type": "markdown",
   "metadata": {},
   "source": [
    "# Improved Neural Network Strategy"
   ]
  },
  {
   "cell_type": "markdown",
   "metadata": {},
   "source": [
    "## Importing the required libraries"
   ]
  },
  {
   "cell_type": "code",
   "execution_count": 46,
   "metadata": {},
   "outputs": [],
   "source": [
    "import pandas as pd\n",
    "import numpy as np\n",
    "import matplotlib.pyplot as plt\n",
    "import tpqoa ## https://github.com/yhilpisch/tpqoa\n",
    "import tensorflow as tf\n",
    "from tensorflow import keras"
   ]
  },
  {
   "cell_type": "code",
   "execution_count": 47,
   "metadata": {},
   "outputs": [],
   "source": [
    "def set_seeds(seed=500):\n",
    "    ''' Function to set seeds for all\n",
    "        random number generators.\n",
    "    '''\n",
    "#    random.seed(seed)\n",
    "    np.random.seed(seed)\n",
    "    tf.random.set_seed(seed)\n",
    "    \n",
    "set_seeds()"
   ]
  },
  {
   "cell_type": "markdown",
   "metadata": {},
   "source": [
    "### Graph Formating"
   ]
  },
  {
   "cell_type": "code",
   "execution_count": 48,
   "metadata": {},
   "outputs": [],
   "source": [
    "plt.style.use('seaborn')\n",
    "plt.rcParams['font.family'] = 'serif'\n",
    "%matplotlib inline\n",
    "\n",
    "SMALL_SIZE = 14; MEDIUM_SIZE = 16; BIGGER_SIZE = 18\n",
    "\n",
    "plt.rc('font', size=SMALL_SIZE)          # controls default text sizes\n",
    "plt.rc('axes', titlesize=SMALL_SIZE)     # fontsize of the axes title\n",
    "plt.rc('axes', labelsize=MEDIUM_SIZE)    # fontsize of the x and y labels\n",
    "plt.rc('xtick', labelsize=SMALL_SIZE)    # fontsize of the tick labels\n",
    "plt.rc('ytick', labelsize=SMALL_SIZE)    # fontsize of the tick labels\n",
    "plt.rc('legend', fontsize=SMALL_SIZE)    # legend fontsize\n",
    "plt.rc('figure', titlesize=BIGGER_SIZE)  # fontsize of the figure title\n",
    "plt.rc('figure', figsize=(10,6))         # size fo the graph"
   ]
  },
  {
   "cell_type": "markdown",
   "metadata": {},
   "source": [
    "## Generate Class"
   ]
  },
  {
   "cell_type": "code",
   "execution_count": 49,
   "metadata": {},
   "outputs": [],
   "source": [
    "class ImprovedNN:\n",
    "    ''' This class downloads data from OANDA,\n",
    "    and prepares it for Modeling and Backtesting\n",
    "    '''\n",
    "\n",
    "    def __init__(self, instrument, start, end, granularity, price):\n",
    "        ''' Init function is expecting a Symbol to filter the data\n",
    "        \n",
    "        Parameters:\n",
    "        ===========\n",
    "        instrument: string\n",
    "            valid instrument name\n",
    "        start, end: datetime, str\n",
    "            Python datetime or string objects for start and end\n",
    "        granularity: string\n",
    "            a string like 'S5', 'M1' or 'D'\n",
    "        price: string\n",
    "            one of 'A' (ask) or 'B' (bid)\n",
    "        '''\n",
    "        self.instrument = instrument\n",
    "        self.start = start\n",
    "        self.end = end\n",
    "        self.granularity = granularity\n",
    "        self.price = price\n",
    "        \n",
    "        api = tpqoa.tpqoa('../config.cfg')\n",
    "        \n",
    "        filename = f'../oanda/' \n",
    "        filename += f'oanda_{instrument}_{start}_{end}_'\n",
    "        filename += f'{granularity}_{price}.csv'\n",
    "        filename = filename.replace(' ', '_').replace('-', '_').replace(':', '_')\n",
    "        try:\n",
    "            self.rawdata = pd.read_csv(filename, index_col=0, parse_dates=True)\n",
    "        except:\n",
    "            self.rawdata = api.get_history(instrument, start,\n",
    "                                       end, granularity,\n",
    "                                       price)\n",
    "            self.rawdata.to_csv(filename)\n",
    "            print(60*\"=\")\n",
    "            print(\"Created CSV File\")\n",
    "            print(filename)\n",
    "            print(60*\"=\")\n",
    "        \n",
    "        self.rawdata = pd.DataFrame(self.rawdata['c'])\n",
    "        self.rawdata.columns = ['price']\n",
    "        \n",
    "        self.generate_columns()\n",
    "\n",
    "        \n",
    "    def generate_columns(self):\n",
    "        ''' Generates the basic columns on the downloaded data '''\n",
    "        \n",
    "        # Calculates the logarithmic return\n",
    "        self.data = self.rawdata[:-1].copy()\n",
    "        self.data['returns'] = np.log(self.data/self.data.shift(1))\n",
    "        self.data['direction'] = np.where(self.data['returns'] > 0 , 1,0)\n",
    "\n",
    "        # Calculates Simple Moving Averages with a long and a short window\n",
    "        self.data['SMA1'] = self.data['price'].rolling(20).mean()\n",
    "        self.data['SMA2'] = self.data['price'].rolling(60).mean()\n",
    "        self.data['dSMA'] = self.data['SMA1'] - self.data['SMA2']\n",
    "\n",
    "        # Calculates Equally Weighted Moving Average with a long and a short halflife\n",
    "        self.data['EWMA1'] = self.data['price'].ewm(halflife=20).mean()\n",
    "        self.data['EWMA2'] = self.data['price'].ewm(halflife=60).mean()\n",
    "        self.data['dEWMA'] = self.data['EWMA1'] - self.data['EWMA2']\n",
    "\n",
    "        # Calculates the moving standard deviation\n",
    "        self.data['vol1'] = self.data['price'].rolling(20).std()\n",
    "        self.data['vol2'] = self.data['price'].rolling(60).std()\n",
    "\n",
    "        # Deletes NA rows\n",
    "        self.data.dropna(inplace=True)\n",
    "        \n",
    "    def createLags(self, lags=5):\n",
    "        ''' Create the lags as features.\n",
    "        \n",
    "        Parameters:\n",
    "        ===========\n",
    "        lags: int\n",
    "            number of lags to be created\n",
    "            default = 5\n",
    "        '''\n",
    "        \n",
    "        #Creating the lags\n",
    "        features = list(self.data.columns)\n",
    "        self.cols = list()\n",
    "        for f in features:    \n",
    "            #Create lags\n",
    "            for lag in range(1, lags + 1):\n",
    "                col = f'{f}_lag_{lag}'\n",
    "                self.cols.append(col)\n",
    "                self.data[col] = self.data[f].shift(lag)\n",
    "\n",
    "        self.data.dropna(inplace=True)\n",
    "    \n",
    "    def splitData(self, split1=0.7, split2=0.9):\n",
    "        ''' Split the data into train,\n",
    "        validation and test\n",
    "        \n",
    "        Parameters:\n",
    "        ===========\n",
    "        split1: int\n",
    "            Proportion of sample used to train\n",
    "            default = 0.7\n",
    "        split2: int\n",
    "            (1 - split2) is the proportion of sample\n",
    "            used to test\n",
    "            default = 0.9\n",
    "        '''\n",
    "        \n",
    "        split = [ int(len(self.data) * split1) , int(len(self.data) * split2) ]\n",
    "        self.train = self.data.iloc[:split[0]].copy()\n",
    "        self.val = self.data.iloc[split[0]:split[1]].copy()\n",
    "        self.test = self.data.iloc[split[1]:].copy()\n",
    "\n",
    "    def normalizeFeatures(self):\n",
    "        ''' Normalized the features created  with the lags'''\n",
    "        \n",
    "        mu, std = self.train.mean(), self.train.std()\n",
    "        self.train_ = (self.train - mu) / std\n",
    "        self.val_ = (self.val - mu) / std\n",
    "        self.test_ = (self.test - mu) / std"
   ]
  },
  {
   "cell_type": "code",
   "execution_count": 50,
   "metadata": {},
   "outputs": [],
   "source": [
    "instrument = 'USD_CAD'\n",
    "start = '2019-10-31'\n",
    "end = '2020-07-31'\n",
    "granularity = 'M30'\n",
    "price = 'M'"
   ]
  },
  {
   "cell_type": "code",
   "execution_count": 51,
   "metadata": {},
   "outputs": [],
   "source": [
    "NN = ImprovedNN(instrument, start, end, granularity, price)"
   ]
  },
  {
   "cell_type": "code",
   "execution_count": 52,
   "metadata": {},
   "outputs": [
    {
     "name": "stdout",
     "output_type": "stream",
     "text": [
      "<class 'pandas.core.frame.DataFrame'>\n",
      "DatetimeIndex: 9244 entries, 2019-11-01 05:30:00 to 2020-07-30 23:00:00\n",
      "Data columns (total 11 columns):\n",
      " #   Column     Non-Null Count  Dtype  \n",
      "---  ------     --------------  -----  \n",
      " 0   price      9244 non-null   float64\n",
      " 1   returns    9244 non-null   float64\n",
      " 2   direction  9244 non-null   int64  \n",
      " 3   SMA1       9244 non-null   float64\n",
      " 4   SMA2       9244 non-null   float64\n",
      " 5   dSMA       9244 non-null   float64\n",
      " 6   EWMA1      9244 non-null   float64\n",
      " 7   EWMA2      9244 non-null   float64\n",
      " 8   dEWMA      9244 non-null   float64\n",
      " 9   vol1       9244 non-null   float64\n",
      " 10  vol2       9244 non-null   float64\n",
      "dtypes: float64(10), int64(1)\n",
      "memory usage: 866.6 KB\n"
     ]
    }
   ],
   "source": [
    "NN.data.info()"
   ]
  },
  {
   "cell_type": "code",
   "execution_count": 53,
   "metadata": {},
   "outputs": [
    {
     "data": {
      "image/png": "[encoded data removed]",
      "text/plain": [
       "<Figure size 720x432 with 1 Axes>"
      ]
     },
     "metadata": {
      "needs_background": "light"
     },
     "output_type": "display_data"
    }
   ],
   "source": [
    "plt.figure()\n",
    "plt.title(instrument,fontweight=\"bold\", pad=20)\n",
    "plt.xlabel('Date')\n",
    "plt.ylabel('Price')\n",
    "plt.plot(NN.data['price'], color='#0A369D');\n",
    "# plt.savefig('price.png', facecolor='None')"
   ]
  },
  {
   "cell_type": "code",
   "execution_count": 54,
   "metadata": {},
   "outputs": [
    {
     "data": {
      "text/html": [
       "<div>\n",
       "<style scoped>\n",
       "    .dataframe tbody tr th:only-of-type {\n",
       "        vertical-align: middle;\n",
       "    }\n",
       "\n",
       "    .dataframe tbody tr th {\n",
       "        vertical-align: top;\n",
       "    }\n",
       "\n",
       "    .dataframe thead th {\n",
       "        text-align: right;\n",
       "    }\n",
       "</style>\n",
       "<table border=\"1\" class=\"dataframe\">\n",
       "  <thead>\n",
       "    <tr style=\"text-align: right;\">\n",
       "      <th></th>\n",
       "      <th>price</th>\n",
       "      <th>returns</th>\n",
       "      <th>direction</th>\n",
       "      <th>SMA1</th>\n",
       "      <th>SMA2</th>\n",
       "      <th>dSMA</th>\n",
       "      <th>EWMA1</th>\n",
       "      <th>EWMA2</th>\n",
       "      <th>dEWMA</th>\n",
       "      <th>vol1</th>\n",
       "      <th>vol2</th>\n",
       "    </tr>\n",
       "    <tr>\n",
       "      <th>time</th>\n",
       "      <th></th>\n",
       "      <th></th>\n",
       "      <th></th>\n",
       "      <th></th>\n",
       "      <th></th>\n",
       "      <th></th>\n",
       "      <th></th>\n",
       "      <th></th>\n",
       "      <th></th>\n",
       "      <th></th>\n",
       "      <th></th>\n",
       "    </tr>\n",
       "  </thead>\n",
       "  <tbody>\n",
       "    <tr>\n",
       "      <th>2020-07-30 21:00:00</th>\n",
       "      <td>1.34280</td>\n",
       "      <td>0.000447</td>\n",
       "      <td>1</td>\n",
       "      <td>1.343209</td>\n",
       "      <td>1.338729</td>\n",
       "      <td>0.004480</td>\n",
       "      <td>1.340209</td>\n",
       "      <td>1.338921</td>\n",
       "      <td>0.001288</td>\n",
       "      <td>0.001117</td>\n",
       "      <td>0.004010</td>\n",
       "    </tr>\n",
       "    <tr>\n",
       "      <th>2020-07-30 21:30:00</th>\n",
       "      <td>1.34272</td>\n",
       "      <td>-0.000060</td>\n",
       "      <td>0</td>\n",
       "      <td>1.343282</td>\n",
       "      <td>1.338823</td>\n",
       "      <td>0.004459</td>\n",
       "      <td>1.340295</td>\n",
       "      <td>1.338965</td>\n",
       "      <td>0.001330</td>\n",
       "      <td>0.001027</td>\n",
       "      <td>0.004037</td>\n",
       "    </tr>\n",
       "    <tr>\n",
       "      <th>2020-07-30 22:00:00</th>\n",
       "      <td>1.34222</td>\n",
       "      <td>-0.000372</td>\n",
       "      <td>0</td>\n",
       "      <td>1.343299</td>\n",
       "      <td>1.338901</td>\n",
       "      <td>0.004398</td>\n",
       "      <td>1.340360</td>\n",
       "      <td>1.339003</td>\n",
       "      <td>0.001358</td>\n",
       "      <td>0.001005</td>\n",
       "      <td>0.004057</td>\n",
       "    </tr>\n",
       "    <tr>\n",
       "      <th>2020-07-30 22:30:00</th>\n",
       "      <td>1.34192</td>\n",
       "      <td>-0.000224</td>\n",
       "      <td>0</td>\n",
       "      <td>1.343277</td>\n",
       "      <td>1.338981</td>\n",
       "      <td>0.004296</td>\n",
       "      <td>1.340413</td>\n",
       "      <td>1.339036</td>\n",
       "      <td>0.001377</td>\n",
       "      <td>0.001031</td>\n",
       "      <td>0.004069</td>\n",
       "    </tr>\n",
       "    <tr>\n",
       "      <th>2020-07-30 23:00:00</th>\n",
       "      <td>1.34156</td>\n",
       "      <td>-0.000268</td>\n",
       "      <td>0</td>\n",
       "      <td>1.343283</td>\n",
       "      <td>1.339058</td>\n",
       "      <td>0.004224</td>\n",
       "      <td>1.340452</td>\n",
       "      <td>1.339065</td>\n",
       "      <td>0.001387</td>\n",
       "      <td>0.001020</td>\n",
       "      <td>0.004073</td>\n",
       "    </tr>\n",
       "  </tbody>\n",
       "</table>\n",
       "</div>"
      ],
      "text/plain": [
       "                       price   returns  direction      SMA1      SMA2  \\\n",
       "time                                                                    \n",
       "2020-07-30 21:00:00  1.34280  0.000447          1  1.343209  1.338729   \n",
       "2020-07-30 21:30:00  1.34272 -0.000060          0  1.343282  1.338823   \n",
       "2020-07-30 22:00:00  1.34222 -0.000372          0  1.343299  1.338901   \n",
       "2020-07-30 22:30:00  1.34192 -0.000224          0  1.343277  1.338981   \n",
       "2020-07-30 23:00:00  1.34156 -0.000268          0  1.343283  1.339058   \n",
       "\n",
       "                         dSMA     EWMA1     EWMA2     dEWMA      vol1  \\\n",
       "time                                                                    \n",
       "2020-07-30 21:00:00  0.004480  1.340209  1.338921  0.001288  0.001117   \n",
       "2020-07-30 21:30:00  0.004459  1.340295  1.338965  0.001330  0.001027   \n",
       "2020-07-30 22:00:00  0.004398  1.340360  1.339003  0.001358  0.001005   \n",
       "2020-07-30 22:30:00  0.004296  1.340413  1.339036  0.001377  0.001031   \n",
       "2020-07-30 23:00:00  0.004224  1.340452  1.339065  0.001387  0.001020   \n",
       "\n",
       "                         vol2  \n",
       "time                           \n",
       "2020-07-30 21:00:00  0.004010  \n",
       "2020-07-30 21:30:00  0.004037  \n",
       "2020-07-30 22:00:00  0.004057  \n",
       "2020-07-30 22:30:00  0.004069  \n",
       "2020-07-30 23:00:00  0.004073  "
      ]
     },
     "execution_count": 54,
     "metadata": {},
     "output_type": "execute_result"
    }
   ],
   "source": [
    "NN.data.tail()"
   ]
  },
  {
   "cell_type": "code",
   "execution_count": 55,
   "metadata": {},
   "outputs": [],
   "source": [
    "NN.createLags(6)"
   ]
  },
  {
   "cell_type": "code",
   "execution_count": 56,
   "metadata": {
    "scrolled": true
   },
   "outputs": [
    {
     "name": "stdout",
     "output_type": "stream",
     "text": [
      "<class 'pandas.core.frame.DataFrame'>\n",
      "DatetimeIndex: 9238 entries, 2019-11-01 08:30:00 to 2020-07-30 23:00:00\n",
      "Data columns (total 77 columns):\n",
      " #   Column           Non-Null Count  Dtype  \n",
      "---  ------           --------------  -----  \n",
      " 0   price            9238 non-null   float64\n",
      " 1   returns          9238 non-null   float64\n",
      " 2   direction        9238 non-null   int64  \n",
      " 3   SMA1             9238 non-null   float64\n",
      " 4   SMA2             9238 non-null   float64\n",
      " 5   dSMA             9238 non-null   float64\n",
      " 6   EWMA1            9238 non-null   float64\n",
      " 7   EWMA2            9238 non-null   float64\n",
      " 8   dEWMA            9238 non-null   float64\n",
      " 9   vol1             9238 non-null   float64\n",
      " 10  vol2             9238 non-null   float64\n",
      " 11  price_lag_1      9238 non-null   float64\n",
      " 12  price_lag_2      9238 non-null   float64\n",
      " 13  price_lag_3      9238 non-null   float64\n",
      " 14  price_lag_4      9238 non-null   float64\n",
      " 15  price_lag_5      9238 non-null   float64\n",
      " 16  price_lag_6      9238 non-null   float64\n",
      " 17  returns_lag_1    9238 non-null   float64\n",
      " 18  returns_lag_2    9238 non-null   float64\n",
      " 19  returns_lag_3    9238 non-null   float64\n",
      " 20  returns_lag_4    9238 non-null   float64\n",
      " 21  returns_lag_5    9238 non-null   float64\n",
      " 22  returns_lag_6    9238 non-null   float64\n",
      " 23  direction_lag_1  9238 non-null   float64\n",
      " 24  direction_lag_2  9238 non-null   float64\n",
      " 25  direction_lag_3  9238 non-null   float64\n",
      " 26  direction_lag_4  9238 non-null   float64\n",
      " 27  direction_lag_5  9238 non-null   float64\n",
      " 28  direction_lag_6  9238 non-null   float64\n",
      " 29  SMA1_lag_1       9238 non-null   float64\n",
      " 30  SMA1_lag_2       9238 non-null   float64\n",
      " 31  SMA1_lag_3       9238 non-null   float64\n",
      " 32  SMA1_lag_4       9238 non-null   float64\n",
      " 33  SMA1_lag_5       9238 non-null   float64\n",
      " 34  SMA1_lag_6       9238 non-null   float64\n",
      " 35  SMA2_lag_1       9238 non-null   float64\n",
      " 36  SMA2_lag_2       9238 non-null   float64\n",
      " 37  SMA2_lag_3       9238 non-null   float64\n",
      " 38  SMA2_lag_4       9238 non-null   float64\n",
      " 39  SMA2_lag_5       9238 non-null   float64\n",
      " 40  SMA2_lag_6       9238 non-null   float64\n",
      " 41  dSMA_lag_1       9238 non-null   float64\n",
      " 42  dSMA_lag_2       9238 non-null   float64\n",
      " 43  dSMA_lag_3       9238 non-null   float64\n",
      " 44  dSMA_lag_4       9238 non-null   float64\n",
      " 45  dSMA_lag_5       9238 non-null   float64\n",
      " 46  dSMA_lag_6       9238 non-null   float64\n",
      " 47  EWMA1_lag_1      9238 non-null   float64\n",
      " 48  EWMA1_lag_2      9238 non-null   float64\n",
      " 49  EWMA1_lag_3      9238 non-null   float64\n",
      " 50  EWMA1_lag_4      9238 non-null   float64\n",
      " 51  EWMA1_lag_5      9238 non-null   float64\n",
      " 52  EWMA1_lag_6      9238 non-null   float64\n",
      " 53  EWMA2_lag_1      9238 non-null   float64\n",
      " 54  EWMA2_lag_2      9238 non-null   float64\n",
      " 55  EWMA2_lag_3      9238 non-null   float64\n",
      " 56  EWMA2_lag_4      9238 non-null   float64\n",
      " 57  EWMA2_lag_5      9238 non-null   float64\n",
      " 58  EWMA2_lag_6      9238 non-null   float64\n",
      " 59  dEWMA_lag_1      9238 non-null   float64\n",
      " 60  dEWMA_lag_2      9238 non-null   float64\n",
      " 61  dEWMA_lag_3      9238 non-null   float64\n",
      " 62  dEWMA_lag_4      9238 non-null   float64\n",
      " 63  dEWMA_lag_5      9238 non-null   float64\n",
      " 64  dEWMA_lag_6      9238 non-null   float64\n",
      " 65  vol1_lag_1       9238 non-null   float64\n",
      " 66  vol1_lag_2       9238 non-null   float64\n",
      " 67  vol1_lag_3       9238 non-null   float64\n",
      " 68  vol1_lag_4       9238 non-null   float64\n",
      " 69  vol1_lag_5       9238 non-null   float64\n",
      " 70  vol1_lag_6       9238 non-null   float64\n",
      " 71  vol2_lag_1       9238 non-null   float64\n",
      " 72  vol2_lag_2       9238 non-null   float64\n",
      " 73  vol2_lag_3       9238 non-null   float64\n",
      " 74  vol2_lag_4       9238 non-null   float64\n",
      " 75  vol2_lag_5       9238 non-null   float64\n",
      " 76  vol2_lag_6       9238 non-null   float64\n",
      "dtypes: float64(76), int64(1)\n",
      "memory usage: 5.5 MB\n"
     ]
    }
   ],
   "source": [
    "NN.data.info()"
   ]
  },
  {
   "cell_type": "code",
   "execution_count": 57,
   "metadata": {},
   "outputs": [],
   "source": [
    "NN.splitData()"
   ]
  },
  {
   "cell_type": "code",
   "execution_count": 58,
   "metadata": {},
   "outputs": [
    {
     "data": {
      "text/plain": [
       "(6466, 77)"
      ]
     },
     "execution_count": 58,
     "metadata": {},
     "output_type": "execute_result"
    }
   ],
   "source": [
    "NN.train.shape"
   ]
  },
  {
   "cell_type": "code",
   "execution_count": 59,
   "metadata": {},
   "outputs": [
    {
     "data": {
      "text/plain": [
       "(1848, 77)"
      ]
     },
     "execution_count": 59,
     "metadata": {},
     "output_type": "execute_result"
    }
   ],
   "source": [
    "NN.val.shape"
   ]
  },
  {
   "cell_type": "code",
   "execution_count": 60,
   "metadata": {},
   "outputs": [
    {
     "data": {
      "text/plain": [
       "(924, 77)"
      ]
     },
     "execution_count": 60,
     "metadata": {},
     "output_type": "execute_result"
    }
   ],
   "source": [
    "NN.test.shape"
   ]
  },
  {
   "cell_type": "raw",
   "metadata": {},
   "source": [
    "backtest=pd.DataFrame(test['returns'])"
   ]
  },
  {
   "cell_type": "code",
   "execution_count": 61,
   "metadata": {},
   "outputs": [],
   "source": [
    "NN.normalizeFeatures()"
   ]
  },
  {
   "cell_type": "code",
   "execution_count": 62,
   "metadata": {},
   "outputs": [
    {
     "data": {
      "text/plain": [
       "(6466, 77)"
      ]
     },
     "execution_count": 62,
     "metadata": {},
     "output_type": "execute_result"
    }
   ],
   "source": [
    "NN.train_.shape"
   ]
  },
  {
   "cell_type": "code",
   "execution_count": 63,
   "metadata": {},
   "outputs": [
    {
     "data": {
      "text/html": [
       "<div>\n",
       "<style scoped>\n",
       "    .dataframe tbody tr th:only-of-type {\n",
       "        vertical-align: middle;\n",
       "    }\n",
       "\n",
       "    .dataframe tbody tr th {\n",
       "        vertical-align: top;\n",
       "    }\n",
       "\n",
       "    .dataframe thead th {\n",
       "        text-align: right;\n",
       "    }\n",
       "</style>\n",
       "<table border=\"1\" class=\"dataframe\">\n",
       "  <thead>\n",
       "    <tr style=\"text-align: right;\">\n",
       "      <th></th>\n",
       "      <th>price</th>\n",
       "      <th>returns</th>\n",
       "      <th>direction</th>\n",
       "      <th>SMA1</th>\n",
       "      <th>SMA2</th>\n",
       "      <th>dSMA</th>\n",
       "      <th>EWMA1</th>\n",
       "      <th>EWMA2</th>\n",
       "      <th>dEWMA</th>\n",
       "      <th>vol1</th>\n",
       "      <th>vol2</th>\n",
       "      <th>price_lag_1</th>\n",
       "      <th>price_lag_2</th>\n",
       "      <th>price_lag_3</th>\n",
       "      <th>price_lag_4</th>\n",
       "    </tr>\n",
       "  </thead>\n",
       "  <tbody>\n",
       "    <tr>\n",
       "      <th>count</th>\n",
       "      <td>6466.00</td>\n",
       "      <td>6466.00</td>\n",
       "      <td>6466.00</td>\n",
       "      <td>6466.00</td>\n",
       "      <td>6466.00</td>\n",
       "      <td>6466.00</td>\n",
       "      <td>6466.00</td>\n",
       "      <td>6466.00</td>\n",
       "      <td>6466.00</td>\n",
       "      <td>6466.00</td>\n",
       "      <td>6466.00</td>\n",
       "      <td>6466.00</td>\n",
       "      <td>6466.00</td>\n",
       "      <td>6466.00</td>\n",
       "      <td>6466.00</td>\n",
       "    </tr>\n",
       "    <tr>\n",
       "      <th>mean</th>\n",
       "      <td>1.35</td>\n",
       "      <td>0.00</td>\n",
       "      <td>0.49</td>\n",
       "      <td>1.35</td>\n",
       "      <td>1.35</td>\n",
       "      <td>0.00</td>\n",
       "      <td>1.35</td>\n",
       "      <td>1.35</td>\n",
       "      <td>0.00</td>\n",
       "      <td>0.00</td>\n",
       "      <td>0.00</td>\n",
       "      <td>1.35</td>\n",
       "      <td>1.35</td>\n",
       "      <td>1.35</td>\n",
       "      <td>1.35</td>\n",
       "    </tr>\n",
       "    <tr>\n",
       "      <th>std</th>\n",
       "      <td>0.04</td>\n",
       "      <td>0.00</td>\n",
       "      <td>0.50</td>\n",
       "      <td>0.04</td>\n",
       "      <td>0.04</td>\n",
       "      <td>0.00</td>\n",
       "      <td>0.04</td>\n",
       "      <td>0.04</td>\n",
       "      <td>0.00</td>\n",
       "      <td>0.00</td>\n",
       "      <td>0.00</td>\n",
       "      <td>0.04</td>\n",
       "      <td>0.04</td>\n",
       "      <td>0.04</td>\n",
       "      <td>0.04</td>\n",
       "    </tr>\n",
       "    <tr>\n",
       "      <th>min</th>\n",
       "      <td>1.30</td>\n",
       "      <td>-0.01</td>\n",
       "      <td>0.00</td>\n",
       "      <td>1.30</td>\n",
       "      <td>1.30</td>\n",
       "      <td>-0.01</td>\n",
       "      <td>1.30</td>\n",
       "      <td>1.30</td>\n",
       "      <td>-0.01</td>\n",
       "      <td>0.00</td>\n",
       "      <td>0.00</td>\n",
       "      <td>1.30</td>\n",
       "      <td>1.30</td>\n",
       "      <td>1.30</td>\n",
       "      <td>1.30</td>\n",
       "    </tr>\n",
       "    <tr>\n",
       "      <th>25%</th>\n",
       "      <td>1.32</td>\n",
       "      <td>-0.00</td>\n",
       "      <td>0.00</td>\n",
       "      <td>1.32</td>\n",
       "      <td>1.32</td>\n",
       "      <td>-0.00</td>\n",
       "      <td>1.32</td>\n",
       "      <td>1.32</td>\n",
       "      <td>-0.00</td>\n",
       "      <td>0.00</td>\n",
       "      <td>0.00</td>\n",
       "      <td>1.32</td>\n",
       "      <td>1.32</td>\n",
       "      <td>1.32</td>\n",
       "      <td>1.32</td>\n",
       "    </tr>\n",
       "    <tr>\n",
       "      <th>50%</th>\n",
       "      <td>1.33</td>\n",
       "      <td>0.00</td>\n",
       "      <td>0.00</td>\n",
       "      <td>1.33</td>\n",
       "      <td>1.33</td>\n",
       "      <td>0.00</td>\n",
       "      <td>1.33</td>\n",
       "      <td>1.33</td>\n",
       "      <td>0.00</td>\n",
       "      <td>0.00</td>\n",
       "      <td>0.00</td>\n",
       "      <td>1.33</td>\n",
       "      <td>1.33</td>\n",
       "      <td>1.33</td>\n",
       "      <td>1.33</td>\n",
       "    </tr>\n",
       "    <tr>\n",
       "      <th>75%</th>\n",
       "      <td>1.40</td>\n",
       "      <td>0.00</td>\n",
       "      <td>1.00</td>\n",
       "      <td>1.40</td>\n",
       "      <td>1.40</td>\n",
       "      <td>0.00</td>\n",
       "      <td>1.40</td>\n",
       "      <td>1.40</td>\n",
       "      <td>0.00</td>\n",
       "      <td>0.00</td>\n",
       "      <td>0.00</td>\n",
       "      <td>1.40</td>\n",
       "      <td>1.40</td>\n",
       "      <td>1.40</td>\n",
       "      <td>1.40</td>\n",
       "    </tr>\n",
       "    <tr>\n",
       "      <th>max</th>\n",
       "      <td>1.47</td>\n",
       "      <td>0.01</td>\n",
       "      <td>1.00</td>\n",
       "      <td>1.46</td>\n",
       "      <td>1.45</td>\n",
       "      <td>0.02</td>\n",
       "      <td>1.45</td>\n",
       "      <td>1.44</td>\n",
       "      <td>0.02</td>\n",
       "      <td>0.01</td>\n",
       "      <td>0.02</td>\n",
       "      <td>1.47</td>\n",
       "      <td>1.47</td>\n",
       "      <td>1.47</td>\n",
       "      <td>1.47</td>\n",
       "    </tr>\n",
       "  </tbody>\n",
       "</table>\n",
       "</div>"
      ],
      "text/plain": [
       "         price  returns  direction     SMA1     SMA2     dSMA    EWMA1  \\\n",
       "count  6466.00  6466.00    6466.00  6466.00  6466.00  6466.00  6466.00   \n",
       "mean      1.35     0.00       0.49     1.35     1.35     0.00     1.35   \n",
       "std       0.04     0.00       0.50     0.04     0.04     0.00     0.04   \n",
       "min       1.30    -0.01       0.00     1.30     1.30    -0.01     1.30   \n",
       "25%       1.32    -0.00       0.00     1.32     1.32    -0.00     1.32   \n",
       "50%       1.33     0.00       0.00     1.33     1.33     0.00     1.33   \n",
       "75%       1.40     0.00       1.00     1.40     1.40     0.00     1.40   \n",
       "max       1.47     0.01       1.00     1.46     1.45     0.02     1.45   \n",
       "\n",
       "         EWMA2    dEWMA     vol1     vol2  price_lag_1  price_lag_2  \\\n",
       "count  6466.00  6466.00  6466.00  6466.00      6466.00      6466.00   \n",
       "mean      1.35     0.00     0.00     0.00         1.35         1.35   \n",
       "std       0.04     0.00     0.00     0.00         0.04         0.04   \n",
       "min       1.30    -0.01     0.00     0.00         1.30         1.30   \n",
       "25%       1.32    -0.00     0.00     0.00         1.32         1.32   \n",
       "50%       1.33     0.00     0.00     0.00         1.33         1.33   \n",
       "75%       1.40     0.00     0.00     0.00         1.40         1.40   \n",
       "max       1.44     0.02     0.01     0.02         1.47         1.47   \n",
       "\n",
       "       price_lag_3  price_lag_4  \n",
       "count      6466.00      6466.00  \n",
       "mean          1.35         1.35  \n",
       "std           0.04         0.04  \n",
       "min           1.30         1.30  \n",
       "25%           1.32         1.32  \n",
       "50%           1.33         1.33  \n",
       "75%           1.40         1.40  \n",
       "max           1.47         1.47  "
      ]
     },
     "execution_count": 63,
     "metadata": {},
     "output_type": "execute_result"
    }
   ],
   "source": [
    "NN.train.iloc[:,:15].describe().round(2)"
   ]
  },
  {
   "cell_type": "code",
   "execution_count": 64,
   "metadata": {},
   "outputs": [
    {
     "data": {
      "text/html": [
       "<div>\n",
       "<style scoped>\n",
       "    .dataframe tbody tr th:only-of-type {\n",
       "        vertical-align: middle;\n",
       "    }\n",
       "\n",
       "    .dataframe tbody tr th {\n",
       "        vertical-align: top;\n",
       "    }\n",
       "\n",
       "    .dataframe thead th {\n",
       "        text-align: right;\n",
       "    }\n",
       "</style>\n",
       "<table border=\"1\" class=\"dataframe\">\n",
       "  <thead>\n",
       "    <tr style=\"text-align: right;\">\n",
       "      <th></th>\n",
       "      <th>price</th>\n",
       "      <th>returns</th>\n",
       "      <th>direction</th>\n",
       "      <th>SMA1</th>\n",
       "      <th>SMA2</th>\n",
       "      <th>dSMA</th>\n",
       "      <th>EWMA1</th>\n",
       "      <th>EWMA2</th>\n",
       "      <th>dEWMA</th>\n",
       "      <th>vol1</th>\n",
       "      <th>vol2</th>\n",
       "      <th>price_lag_1</th>\n",
       "      <th>price_lag_2</th>\n",
       "      <th>price_lag_3</th>\n",
       "      <th>price_lag_4</th>\n",
       "    </tr>\n",
       "  </thead>\n",
       "  <tbody>\n",
       "    <tr>\n",
       "      <th>count</th>\n",
       "      <td>6466.00</td>\n",
       "      <td>6466.00</td>\n",
       "      <td>6466.00</td>\n",
       "      <td>6466.00</td>\n",
       "      <td>6466.00</td>\n",
       "      <td>6466.00</td>\n",
       "      <td>6466.00</td>\n",
       "      <td>6466.00</td>\n",
       "      <td>6466.00</td>\n",
       "      <td>6466.00</td>\n",
       "      <td>6466.00</td>\n",
       "      <td>6466.00</td>\n",
       "      <td>6466.00</td>\n",
       "      <td>6466.00</td>\n",
       "      <td>6466.00</td>\n",
       "    </tr>\n",
       "    <tr>\n",
       "      <th>mean</th>\n",
       "      <td>0.00</td>\n",
       "      <td>0.00</td>\n",
       "      <td>0.00</td>\n",
       "      <td>-0.00</td>\n",
       "      <td>0.00</td>\n",
       "      <td>-0.00</td>\n",
       "      <td>-0.00</td>\n",
       "      <td>0.00</td>\n",
       "      <td>-0.00</td>\n",
       "      <td>-0.00</td>\n",
       "      <td>-0.00</td>\n",
       "      <td>0.00</td>\n",
       "      <td>0.00</td>\n",
       "      <td>0.00</td>\n",
       "      <td>0.00</td>\n",
       "    </tr>\n",
       "    <tr>\n",
       "      <th>std</th>\n",
       "      <td>1.00</td>\n",
       "      <td>1.00</td>\n",
       "      <td>1.00</td>\n",
       "      <td>1.00</td>\n",
       "      <td>1.00</td>\n",
       "      <td>1.00</td>\n",
       "      <td>1.00</td>\n",
       "      <td>1.00</td>\n",
       "      <td>1.00</td>\n",
       "      <td>1.00</td>\n",
       "      <td>1.00</td>\n",
       "      <td>1.00</td>\n",
       "      <td>1.00</td>\n",
       "      <td>1.00</td>\n",
       "      <td>1.00</td>\n",
       "    </tr>\n",
       "    <tr>\n",
       "      <th>min</th>\n",
       "      <td>-1.24</td>\n",
       "      <td>-8.70</td>\n",
       "      <td>-0.99</td>\n",
       "      <td>-1.23</td>\n",
       "      <td>-1.22</td>\n",
       "      <td>-4.52</td>\n",
       "      <td>-1.22</td>\n",
       "      <td>-1.17</td>\n",
       "      <td>-3.36</td>\n",
       "      <td>-0.89</td>\n",
       "      <td>-0.93</td>\n",
       "      <td>-1.24</td>\n",
       "      <td>-1.24</td>\n",
       "      <td>-1.24</td>\n",
       "      <td>-1.24</td>\n",
       "    </tr>\n",
       "    <tr>\n",
       "      <th>25%</th>\n",
       "      <td>-0.75</td>\n",
       "      <td>-0.31</td>\n",
       "      <td>-0.99</td>\n",
       "      <td>-0.75</td>\n",
       "      <td>-0.75</td>\n",
       "      <td>-0.38</td>\n",
       "      <td>-0.74</td>\n",
       "      <td>-0.75</td>\n",
       "      <td>-0.46</td>\n",
       "      <td>-0.63</td>\n",
       "      <td>-0.69</td>\n",
       "      <td>-0.75</td>\n",
       "      <td>-0.75</td>\n",
       "      <td>-0.75</td>\n",
       "      <td>-0.75</td>\n",
       "    </tr>\n",
       "    <tr>\n",
       "      <th>50%</th>\n",
       "      <td>-0.50</td>\n",
       "      <td>-0.01</td>\n",
       "      <td>-0.99</td>\n",
       "      <td>-0.49</td>\n",
       "      <td>-0.49</td>\n",
       "      <td>-0.05</td>\n",
       "      <td>-0.49</td>\n",
       "      <td>-0.50</td>\n",
       "      <td>-0.08</td>\n",
       "      <td>-0.38</td>\n",
       "      <td>-0.41</td>\n",
       "      <td>-0.50</td>\n",
       "      <td>-0.50</td>\n",
       "      <td>-0.50</td>\n",
       "      <td>-0.50</td>\n",
       "    </tr>\n",
       "    <tr>\n",
       "      <th>75%</th>\n",
       "      <td>1.08</td>\n",
       "      <td>0.29</td>\n",
       "      <td>1.01</td>\n",
       "      <td>1.08</td>\n",
       "      <td>1.09</td>\n",
       "      <td>0.31</td>\n",
       "      <td>1.11</td>\n",
       "      <td>1.19</td>\n",
       "      <td>0.29</td>\n",
       "      <td>0.22</td>\n",
       "      <td>0.42</td>\n",
       "      <td>1.08</td>\n",
       "      <td>1.08</td>\n",
       "      <td>1.08</td>\n",
       "      <td>1.08</td>\n",
       "    </tr>\n",
       "    <tr>\n",
       "      <th>max</th>\n",
       "      <td>2.67</td>\n",
       "      <td>12.52</td>\n",
       "      <td>1.01</td>\n",
       "      <td>2.48</td>\n",
       "      <td>2.39</td>\n",
       "      <td>5.64</td>\n",
       "      <td>2.30</td>\n",
       "      <td>2.18</td>\n",
       "      <td>5.61</td>\n",
       "      <td>6.64</td>\n",
       "      <td>5.86</td>\n",
       "      <td>2.67</td>\n",
       "      <td>2.67</td>\n",
       "      <td>2.67</td>\n",
       "      <td>2.68</td>\n",
       "    </tr>\n",
       "  </tbody>\n",
       "</table>\n",
       "</div>"
      ],
      "text/plain": [
       "         price  returns  direction     SMA1     SMA2     dSMA    EWMA1  \\\n",
       "count  6466.00  6466.00    6466.00  6466.00  6466.00  6466.00  6466.00   \n",
       "mean      0.00     0.00       0.00    -0.00     0.00    -0.00    -0.00   \n",
       "std       1.00     1.00       1.00     1.00     1.00     1.00     1.00   \n",
       "min      -1.24    -8.70      -0.99    -1.23    -1.22    -4.52    -1.22   \n",
       "25%      -0.75    -0.31      -0.99    -0.75    -0.75    -0.38    -0.74   \n",
       "50%      -0.50    -0.01      -0.99    -0.49    -0.49    -0.05    -0.49   \n",
       "75%       1.08     0.29       1.01     1.08     1.09     0.31     1.11   \n",
       "max       2.67    12.52       1.01     2.48     2.39     5.64     2.30   \n",
       "\n",
       "         EWMA2    dEWMA     vol1     vol2  price_lag_1  price_lag_2  \\\n",
       "count  6466.00  6466.00  6466.00  6466.00      6466.00      6466.00   \n",
       "mean      0.00    -0.00    -0.00    -0.00         0.00         0.00   \n",
       "std       1.00     1.00     1.00     1.00         1.00         1.00   \n",
       "min      -1.17    -3.36    -0.89    -0.93        -1.24        -1.24   \n",
       "25%      -0.75    -0.46    -0.63    -0.69        -0.75        -0.75   \n",
       "50%      -0.50    -0.08    -0.38    -0.41        -0.50        -0.50   \n",
       "75%       1.19     0.29     0.22     0.42         1.08         1.08   \n",
       "max       2.18     5.61     6.64     5.86         2.67         2.67   \n",
       "\n",
       "       price_lag_3  price_lag_4  \n",
       "count      6466.00      6466.00  \n",
       "mean          0.00         0.00  \n",
       "std           1.00         1.00  \n",
       "min          -1.24        -1.24  \n",
       "25%          -0.75        -0.75  \n",
       "50%          -0.50        -0.50  \n",
       "75%           1.08         1.08  \n",
       "max           2.67         2.68  "
      ]
     },
     "execution_count": 64,
     "metadata": {},
     "output_type": "execute_result"
    }
   ],
   "source": [
    "NN.train_.iloc[:,:15].describe().round(2)"
   ]
  },
  {
   "cell_type": "markdown",
   "metadata": {},
   "source": [
    "## Modelling the Neural Network"
   ]
  },
  {
   "cell_type": "code",
   "execution_count": 65,
   "metadata": {},
   "outputs": [],
   "source": [
    "from keras.layers import Dense\n",
    "from keras.models import Sequential\n",
    "from sklearn.metrics import accuracy_score\n",
    "from keras.layers import Dropout\n",
    "from keras import regularizers\n",
    "from keras.callbacks import EarlyStopping, ModelCheckpoint"
   ]
  },
  {
   "cell_type": "code",
   "execution_count": 66,
   "metadata": {},
   "outputs": [],
   "source": [
    "model = Sequential()\n",
    "    \n",
    "model.add(Dense(128, kernel_regularizer=regularizers.l2(0.001),\n",
    "                input_dim=len(NN.cols), activation='relu'))\n",
    "model.add(Dropout(0.3))\n",
    "model.add(Dense(128, kernel_regularizer=regularizers.l2(0.001),\n",
    "                activation='relu'))\n",
    "model.add(Dropout(0.3))\n",
    "model.add(Dense(1, activation='sigmoid'))  \n",
    "    \n",
    "model.compile(loss='binary_crossentropy',  \n",
    "                       optimizer='adam',  \n",
    "                       metrics=['acc'])  "
   ]
  },
  {
   "cell_type": "code",
   "execution_count": 68,
   "metadata": {},
   "outputs": [],
   "source": [
    "callbacks = [EarlyStopping(monitor='val_acc', patience=20)]"
   ]
  },
  {
   "cell_type": "code",
   "execution_count": 69,
   "metadata": {},
   "outputs": [
    {
     "name": "stdout",
     "output_type": "stream",
     "text": [
      "Model: \"sequential_1\"\n",
      "_________________________________________________________________\n",
      "Layer (type)                 Output Shape              Param #   \n",
      "=================================================================\n",
      "dense_1 (Dense)              (None, 128)               8576      \n",
      "_________________________________________________________________\n",
      "dropout_1 (Dropout)          (None, 128)               0         \n",
      "_________________________________________________________________\n",
      "dense_2 (Dense)              (None, 128)               16512     \n",
      "_________________________________________________________________\n",
      "dropout_2 (Dropout)          (None, 128)               0         \n",
      "_________________________________________________________________\n",
      "dense_3 (Dense)              (None, 1)                 129       \n",
      "=================================================================\n",
      "Total params: 25,217\n",
      "Trainable params: 25,217\n",
      "Non-trainable params: 0\n",
      "_________________________________________________________________\n"
     ]
    }
   ],
   "source": [
    "model.summary()"
   ]
  },
  {
   "cell_type": "code",
   "execution_count": 70,
   "metadata": {},
   "outputs": [],
   "source": [
    "history = model.fit(NN.train_[NN.cols],\n",
    "                    NN.train['direction'], \n",
    "                      epochs=125, \n",
    "                      verbose=False,\n",
    "                      batch_size=32,\n",
    "                      validation_data=(NN.val_[NN.cols],NN.val['direction']),\n",
    "                      callbacks=callbacks)"
   ]
  },
  {
   "cell_type": "code",
   "execution_count": 71,
   "metadata": {},
   "outputs": [],
   "source": [
    "history_dict = history.history\n",
    "\n",
    "loss_values = history_dict['loss']\n",
    "val_loss_values = history_dict['val_loss']\n",
    "\n",
    "acc_values = history_dict['acc']\n",
    "val_acc_values = history_dict['val_acc']\n",
    "\n",
    "epochs = range(1, len(history_dict['acc']) + 1)"
   ]
  },
  {
   "cell_type": "code",
   "execution_count": 72,
   "metadata": {},
   "outputs": [
    {
     "data": {
      "image/png": "[encoded data removed]",
      "text/plain": [
       "<Figure size 720x432 with 1 Axes>"
      ]
     },
     "metadata": {
      "needs_background": "light"
     },
     "output_type": "display_data"
    }
   ],
   "source": [
    "plt.plot(epochs, loss_values,'bo', label='Training loss')\n",
    "plt.plot(epochs, val_loss_values,'b', label='Validation loss')\n",
    "plt.title('Training and Validation loss',fontweight=\"bold\", pad=20)\n",
    "plt.xlabel('Epochs')\n",
    "plt.ylabel('Loss')\n",
    "plt.legend();\n",
    "# plt.savefig('Loss.png', facecolor='None')"
   ]
  },
  {
   "cell_type": "code",
   "execution_count": 73,
   "metadata": {},
   "outputs": [
    {
     "data": {
      "image/png": "[encoded data removed]",
      "text/plain": [
       "<Figure size 720x432 with 1 Axes>"
      ]
     },
     "metadata": {
      "needs_background": "light"
     },
     "output_type": "display_data"
    }
   ],
   "source": [
    "plt.plot(epochs, acc_values,'bo', label='Training accuracy')\n",
    "plt.plot(epochs, val_acc_values,'b', label='Validation accuracy')\n",
    "plt.title('Training and Validation accuracy',fontweight=\"bold\", pad=20)\n",
    "plt.xlabel('Epochs')\n",
    "plt.ylabel('Acc')\n",
    "plt.legend();\n",
    "# plt.savefig('Accuracy.png', facecolor='None')"
   ]
  },
  {
   "cell_type": "code",
   "execution_count": 74,
   "metadata": {},
   "outputs": [],
   "source": [
    "res = pd.DataFrame(model.history.history)"
   ]
  },
  {
   "cell_type": "code",
   "execution_count": 75,
   "metadata": {},
   "outputs": [
    {
     "data": {
      "text/html": [
       "<div>\n",
       "<style scoped>\n",
       "    .dataframe tbody tr th:only-of-type {\n",
       "        vertical-align: middle;\n",
       "    }\n",
       "\n",
       "    .dataframe tbody tr th {\n",
       "        vertical-align: top;\n",
       "    }\n",
       "\n",
       "    .dataframe thead th {\n",
       "        text-align: right;\n",
       "    }\n",
       "</style>\n",
       "<table border=\"1\" class=\"dataframe\">\n",
       "  <thead>\n",
       "    <tr style=\"text-align: right;\">\n",
       "      <th></th>\n",
       "      <th>val_loss</th>\n",
       "      <th>val_acc</th>\n",
       "      <th>loss</th>\n",
       "      <th>acc</th>\n",
       "    </tr>\n",
       "  </thead>\n",
       "  <tbody>\n",
       "    <tr>\n",
       "      <th>19</th>\n",
       "      <td>0.698466</td>\n",
       "      <td>0.498377</td>\n",
       "      <td>0.695298</td>\n",
       "      <td>0.534179</td>\n",
       "    </tr>\n",
       "    <tr>\n",
       "      <th>20</th>\n",
       "      <td>0.697123</td>\n",
       "      <td>0.516234</td>\n",
       "      <td>0.694738</td>\n",
       "      <td>0.532014</td>\n",
       "    </tr>\n",
       "    <tr>\n",
       "      <th>21</th>\n",
       "      <td>0.699832</td>\n",
       "      <td>0.488636</td>\n",
       "      <td>0.694603</td>\n",
       "      <td>0.521961</td>\n",
       "    </tr>\n",
       "  </tbody>\n",
       "</table>\n",
       "</div>"
      ],
      "text/plain": [
       "    val_loss   val_acc      loss       acc\n",
       "19  0.698466  0.498377  0.695298  0.534179\n",
       "20  0.697123  0.516234  0.694738  0.532014\n",
       "21  0.699832  0.488636  0.694603  0.521961"
      ]
     },
     "execution_count": 75,
     "metadata": {},
     "output_type": "execute_result"
    }
   ],
   "source": [
    "res.tail(3)"
   ]
  },
  {
   "cell_type": "code",
   "execution_count": 76,
   "metadata": {},
   "outputs": [
    {
     "data": {
      "image/png": "[encoded data removed]",
      "text/plain": [
       "<Figure size 720x432 with 1 Axes>"
      ]
     },
     "metadata": {
      "needs_background": "light"
     },
     "output_type": "display_data"
    }
   ],
   "source": [
    "res.plot(figsize=(10, 6), style=['--', '--', '-', '-']);"
   ]
  },
  {
   "cell_type": "code",
   "execution_count": 31,
   "metadata": {},
   "outputs": [],
   "source": [
    "backtest = backtest[5:].copy()\n",
    "\n",
    "backtest['pred']=model.predict(X_test).round()\n",
    "backtest['pred']=np.where(backtest['pred']==1,1,-1)  \n",
    "\n",
    "backtest['strategy'] = backtest['pred'] * backtest['returns']"
   ]
  },
  {
   "cell_type": "code",
   "execution_count": 32,
   "metadata": {},
   "outputs": [
    {
     "data": {
      "image/png": "[encoded data removed]",
      "text/plain": [
       "<Figure size 720x432 with 1 Axes>"
      ]
     },
     "metadata": {
      "needs_background": "light"
     },
     "output_type": "display_data"
    }
   ],
   "source": [
    "plt.figure()\n",
    "plt.title('Neural Network Strategy',fontweight=\"bold\", pad=20)\n",
    "plt.xlabel('Date')\n",
    "plt.ylabel('Return')\n",
    "plt.plot(backtest['returns'].cumsum().apply(np.exp), label='historical return', color='#0A369D')\n",
    "plt.plot(backtest['strategy'].cumsum().apply(np.exp), label='strategy return', color='#62a8ac')\n",
    "plt.legend(loc=0)\n",
    "plt.setp(plt.xticks()[1], rotation=30, ha='right');\n",
    "# plt.savefig('classification_strategy.png', facecolor='None')"
   ]
  },
  {
   "cell_type": "code",
   "execution_count": 33,
   "metadata": {},
   "outputs": [
    {
     "data": {
      "text/plain": [
       "returns     0.955466\n",
       "strategy    1.034271\n",
       "dtype: float64"
      ]
     },
     "execution_count": 33,
     "metadata": {},
     "output_type": "execute_result"
    }
   ],
   "source": [
    "backtest[['returns', 'strategy']].sum().apply(np.exp)"
   ]
  },
  {
   "cell_type": "code",
   "execution_count": null,
   "metadata": {},
   "outputs": [],
   "source": []
  },
  {
   "cell_type": "code",
   "execution_count": null,
   "metadata": {},
   "outputs": [],
   "source": []
  },
  {
   "cell_type": "code",
   "execution_count": null,
   "metadata": {},
   "outputs": [],
   "source": []
  },
  {
   "cell_type": "code",
   "execution_count": null,
   "metadata": {},
   "outputs": [],
   "source": []
  },
  {
   "cell_type": "markdown",
   "metadata": {},
   "source": [
    "<a href=\"http://www.road2quant.com\">\n",
    "    <img src=\"https://uploads-ssl.webflow.com/5eae007d92687089219c5dec/5eb47da29ced78042e9768ce_long_logo.png\" target=\"_blank\" align=\"right\" border=\"0\" width=\"35%\" >\n",
    "</a>"
   ]
  }
 ],
 "metadata": {
  "kernelspec": {
   "display_name": "Python 3",
   "language": "python",
   "name": "python3"
  },
  "language_info": {
   "codemirror_mode": {
    "name": "ipython",
    "version": 3
   },
   "file_extension": ".py",
   "mimetype": "text/x-python",
   "name": "python",
   "nbconvert_exporter": "python",
   "pygments_lexer": "ipython3",
   "version": "3.7.7"
  }
 },
 "nbformat": 4,
 "nbformat_minor": 4
}
