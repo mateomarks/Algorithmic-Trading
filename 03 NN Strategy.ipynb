{
 "cells": [
  {
   "cell_type": "markdown",
   "metadata": {},
   "source": [
    "<a href=\"http://www.road2quant.com\">\n",
    "    <img src=\"https://uploads-ssl.webflow.com/5eae007d92687089219c5dec/5eb47da29ced78042e9768ce_long_logo.png\" target=\"_blank\" align=\"right\" border=\"0\" width=\"35%\" >\n",
    "</a>"
   ]
  },
  {
   "cell_type": "markdown",
   "metadata": {},
   "source": [
    "# Neuronal Network based Trading Strategy"
   ]
  },
  {
   "cell_type": "markdown",
   "metadata": {},
   "source": [
    "Continuing with the progression of implementing trading strategies with Artificial Intelligence models, we created a Neuronal Network model to predict the direction of a stock price. To do so, we built on top of our previous post of Modeling the stock Market through Machine Learning models and apply the solutions we figured out for the usual financial models.\n",
    "\n",
    "Through Neuronal Networks modelling, we will encounter new challenges like the problem of over-fitting, the biggest problem at the moment of modelling financial data."
   ]
  },
  {
   "cell_type": "markdown",
   "metadata": {},
   "source": [
    "## Importing the required libraries"
   ]
  },
  {
   "cell_type": "markdown",
   "metadata": {},
   "source": [
    "First, we begin by importing the libraries we used across the code. \n",
    "- `Yfinance` to download the daily prices from yahoo finance.\n",
    "- `Numpy` and `Pandas` to manipulate the data.\n",
    "- `Matplotlib` to create the charts\n",
    "- `Tensorflow` and `Keras` to implement the neuronal network model"
   ]
  },
  {
   "cell_type": "code",
   "execution_count": 1,
   "metadata": {},
   "outputs": [],
   "source": [
    "import yfinance as yf\n",
    "import numpy as np\n",
    "import pandas as pd\n",
    "import matplotlib.pyplot as plt\n",
    "import tensorflow as tf\n",
    "from tensorflow import keras\n",
    "tf.random.set_seed(500)"
   ]
  },
  {
   "cell_type": "markdown",
   "metadata": {},
   "source": [
    "### Graph Formating"
   ]
  },
  {
   "cell_type": "code",
   "execution_count": 2,
   "metadata": {},
   "outputs": [],
   "source": [
    "plt.style.use('seaborn')\n",
    "plt.rcParams['font.family'] = 'serif'\n",
    "%matplotlib inline\n",
    "\n",
    "SMALL_SIZE = 14; MEDIUM_SIZE = 16; BIGGER_SIZE = 18\n",
    "\n",
    "plt.rc('font', size=SMALL_SIZE)          # controls default text sizes\n",
    "plt.rc('axes', titlesize=SMALL_SIZE)     # fontsize of the axes title\n",
    "plt.rc('axes', labelsize=MEDIUM_SIZE)    # fontsize of the x and y labels\n",
    "plt.rc('xtick', labelsize=SMALL_SIZE)    # fontsize of the tick labels\n",
    "plt.rc('ytick', labelsize=SMALL_SIZE)    # fontsize of the tick labels\n",
    "plt.rc('legend', fontsize=SMALL_SIZE)    # legend fontsize\n",
    "plt.rc('figure', titlesize=BIGGER_SIZE)  # fontsize of the figure title\n",
    "plt.rc('figure', figsize=(10,6))         # size fo the graph"
   ]
  },
  {
   "cell_type": "markdown",
   "metadata": {},
   "source": [
    "## Downloading the Data"
   ]
  },
  {
   "cell_type": "markdown",
   "metadata": {},
   "source": [
    "The next step is to download the Microsoft (MSFT) historical price from Yahoo Finance. The window used is daily data from Jan-2010 to Jul-2020."
   ]
  },
  {
   "cell_type": "code",
   "execution_count": 3,
   "metadata": {},
   "outputs": [
    {
     "name": "stdout",
     "output_type": "stream",
     "text": [
      "[*********************100%***********************]  1 of 1 completed\n"
     ]
    }
   ],
   "source": [
    "symbol = [\"MSFT\"]\n",
    "rawdata = yf.download(symbol, start=\"2010-01-01\", end=\"2020-07-25\", interval = \"1d\")\n",
    "\n",
    "rawdata = pd.DataFrame(rawdata['Close'])\n",
    "rawdata.columns = ['price']"
   ]
  },
  {
   "cell_type": "markdown",
   "metadata": {},
   "source": [
    "As we can observe in the graph, the Microsoft stock price has a positive trend, but it presents volatile moments that we tried to capitalize on the algorithmic strategy. "
   ]
  },
  {
   "cell_type": "code",
   "execution_count": 4,
   "metadata": {},
   "outputs": [
    {
     "data": {
      "image/png": "[encoded data removed]",
      "text/plain": [
       "<Figure size 720x432 with 1 Axes>"
      ]
     },
     "metadata": {
      "needs_background": "light"
     },
     "output_type": "display_data"
    }
   ],
   "source": [
    "plt.figure()\n",
    "plt.title('Microsoft Price',fontweight=\"bold\", pad=20)\n",
    "plt.xlabel('Years')\n",
    "plt.ylabel('Price')\n",
    "plt.plot(rawdata, color='#0A369D');\n",
    "# plt.savefig('price.png', facecolor='None')"
   ]
  },
  {
   "cell_type": "markdown",
   "metadata": {},
   "source": [
    "## Preparing the data"
   ]
  },
  {
   "cell_type": "markdown",
   "metadata": {},
   "source": [
    "After downloading the data, we proceed to calculate the different technical indicators that we used as features in the Neuronal Network model.\n",
    "We calculated the logarithmic returns and afterword a column with its sign, the variable that we are going to try to predict. As we can tell in the formula, the variable `direction` is a binary feature that takes a value of 1 when the return is positive and 0 otherwise.\n",
    "\n",
    "We also calculated 2 windows of Simple Moving Averages, Equally Weighted Moving Averages and Rolling Standard Deviations."
   ]
  },
  {
   "cell_type": "code",
   "execution_count": 5,
   "metadata": {},
   "outputs": [
    {
     "data": {
      "text/html": [
       "<div>\n",
       "<style scoped>\n",
       "    .dataframe tbody tr th:only-of-type {\n",
       "        vertical-align: middle;\n",
       "    }\n",
       "\n",
       "    .dataframe tbody tr th {\n",
       "        vertical-align: top;\n",
       "    }\n",
       "\n",
       "    .dataframe thead th {\n",
       "        text-align: right;\n",
       "    }\n",
       "</style>\n",
       "<table border=\"1\" class=\"dataframe\">\n",
       "  <thead>\n",
       "    <tr style=\"text-align: right;\">\n",
       "      <th></th>\n",
       "      <th>price</th>\n",
       "      <th>returns</th>\n",
       "      <th>direction</th>\n",
       "      <th>SMA1</th>\n",
       "      <th>SMA2</th>\n",
       "      <th>dSMA</th>\n",
       "      <th>EWMA1</th>\n",
       "      <th>EWMA2</th>\n",
       "      <th>dEWMA</th>\n",
       "      <th>vol1</th>\n",
       "      <th>vol2</th>\n",
       "    </tr>\n",
       "    <tr>\n",
       "      <th>Date</th>\n",
       "      <th></th>\n",
       "      <th></th>\n",
       "      <th></th>\n",
       "      <th></th>\n",
       "      <th></th>\n",
       "      <th></th>\n",
       "      <th></th>\n",
       "      <th></th>\n",
       "      <th></th>\n",
       "      <th></th>\n",
       "      <th></th>\n",
       "    </tr>\n",
       "  </thead>\n",
       "  <tbody>\n",
       "    <tr>\n",
       "      <th>2020-07-17</th>\n",
       "      <td>202.880005</td>\n",
       "      <td>-0.005113</td>\n",
       "      <td>0</td>\n",
       "      <td>204.426000</td>\n",
       "      <td>190.072334</td>\n",
       "      <td>14.353666</td>\n",
       "      <td>192.202676</td>\n",
       "      <td>172.901406</td>\n",
       "      <td>19.301270</td>\n",
       "      <td>5.992706</td>\n",
       "      <td>11.791144</td>\n",
       "    </tr>\n",
       "    <tr>\n",
       "      <th>2020-07-20</th>\n",
       "      <td>211.600006</td>\n",
       "      <td>0.042083</td>\n",
       "      <td>1</td>\n",
       "      <td>204.754000</td>\n",
       "      <td>190.561667</td>\n",
       "      <td>14.192333</td>\n",
       "      <td>192.566385</td>\n",
       "      <td>173.245739</td>\n",
       "      <td>19.320646</td>\n",
       "      <td>5.697965</td>\n",
       "      <td>11.701458</td>\n",
       "    </tr>\n",
       "    <tr>\n",
       "      <th>2020-07-21</th>\n",
       "      <td>208.750000</td>\n",
       "      <td>-0.013560</td>\n",
       "      <td>0</td>\n",
       "      <td>205.576501</td>\n",
       "      <td>191.231334</td>\n",
       "      <td>14.345167</td>\n",
       "      <td>193.214740</td>\n",
       "      <td>173.686275</td>\n",
       "      <td>19.528465</td>\n",
       "      <td>5.419118</td>\n",
       "      <td>11.737109</td>\n",
       "    </tr>\n",
       "    <tr>\n",
       "      <th>2020-07-22</th>\n",
       "      <td>211.750000</td>\n",
       "      <td>0.014269</td>\n",
       "      <td>1</td>\n",
       "      <td>205.985500</td>\n",
       "      <td>191.801334</td>\n",
       "      <td>14.184166</td>\n",
       "      <td>193.743928</td>\n",
       "      <td>174.089017</td>\n",
       "      <td>19.654911</td>\n",
       "      <td>5.329316</td>\n",
       "      <td>11.743709</td>\n",
       "    </tr>\n",
       "    <tr>\n",
       "      <th>2020-07-23</th>\n",
       "      <td>202.539993</td>\n",
       "      <td>-0.044469</td>\n",
       "      <td>0</td>\n",
       "      <td>206.477500</td>\n",
       "      <td>192.429667</td>\n",
       "      <td>14.047833</td>\n",
       "      <td>194.357281</td>\n",
       "      <td>174.521590</td>\n",
       "      <td>19.835691</td>\n",
       "      <td>5.387163</td>\n",
       "      <td>11.786317</td>\n",
       "    </tr>\n",
       "  </tbody>\n",
       "</table>\n",
       "</div>"
      ],
      "text/plain": [
       "                 price   returns  direction        SMA1        SMA2  \\\n",
       "Date                                                                  \n",
       "2020-07-17  202.880005 -0.005113          0  204.426000  190.072334   \n",
       "2020-07-20  211.600006  0.042083          1  204.754000  190.561667   \n",
       "2020-07-21  208.750000 -0.013560          0  205.576501  191.231334   \n",
       "2020-07-22  211.750000  0.014269          1  205.985500  191.801334   \n",
       "2020-07-23  202.539993 -0.044469          0  206.477500  192.429667   \n",
       "\n",
       "                 dSMA       EWMA1       EWMA2      dEWMA      vol1       vol2  \n",
       "Date                                                                           \n",
       "2020-07-17  14.353666  192.202676  172.901406  19.301270  5.992706  11.791144  \n",
       "2020-07-20  14.192333  192.566385  173.245739  19.320646  5.697965  11.701458  \n",
       "2020-07-21  14.345167  193.214740  173.686275  19.528465  5.419118  11.737109  \n",
       "2020-07-22  14.184166  193.743928  174.089017  19.654911  5.329316  11.743709  \n",
       "2020-07-23  14.047833  194.357281  174.521590  19.835691  5.387163  11.786317  "
      ]
     },
     "execution_count": 5,
     "metadata": {},
     "output_type": "execute_result"
    }
   ],
   "source": [
    "data = rawdata[:-1].copy()\n",
    "data['returns'] = np.log(data/data.shift(1))\n",
    "data['direction'] = np.where(data['returns'] > 0 , 1,0)\n",
    "\n",
    "\n",
    "# Calculates Simple Moving Averages with a long and a short window\n",
    "data['SMA1'] = data['price'].rolling(20).mean().shift(1)\n",
    "data['SMA2'] = data['price'].rolling(60).mean().shift(1)\n",
    "data['dSMA'] = data['SMA1'] - data['SMA2']\n",
    "\n",
    "# Calculates Equally Weighted Moving Average with a long and a short halflife\n",
    "data['EWMA1'] = data['price'].ewm(halflife=20).mean().shift(1)\n",
    "data['EWMA2'] = data['price'].ewm(halflife=60).mean().shift(1)\n",
    "data['dEWMA'] = data['EWMA1'] - data['EWMA2']\n",
    "\n",
    "# Calculates the moving standard deviation\n",
    "data['vol1'] = data['price'].rolling(20).std().shift(1)\n",
    "data['vol2'] = data['price'].rolling(60).std().shift(1)\n",
    "\n",
    "# Deletes NA rows\n",
    "data.dropna(inplace=True)\n",
    "\n",
    "data.tail()"
   ]
  },
  {
   "cell_type": "markdown",
   "metadata": {},
   "source": [
    "As a good practice, we split the data in training (70%) and test (30%) to evaluate our final model with data that the model hasn't seen."
   ]
  },
  {
   "cell_type": "code",
   "execution_count": 6,
   "metadata": {},
   "outputs": [],
   "source": [
    "split = int(len(data) * 0.7)\n",
    "train = data.iloc[:split].copy()\n",
    "test = data.iloc[split:].copy()"
   ]
  },
  {
   "cell_type": "code",
   "execution_count": 7,
   "metadata": {},
   "outputs": [
    {
     "data": {
      "text/plain": [
       "(1817, 11)"
      ]
     },
     "execution_count": 7,
     "metadata": {},
     "output_type": "execute_result"
    }
   ],
   "source": [
    "train.shape"
   ]
  },
  {
   "cell_type": "code",
   "execution_count": 8,
   "metadata": {},
   "outputs": [
    {
     "data": {
      "text/plain": [
       "(780, 11)"
      ]
     },
     "execution_count": 8,
     "metadata": {},
     "output_type": "execute_result"
    }
   ],
   "source": [
    "test.shape"
   ]
  },
  {
   "cell_type": "markdown",
   "metadata": {},
   "source": [
    "We create a `backtest` data frame with the test returns that we use to backtest the trading strategy at the end of the study."
   ]
  },
  {
   "cell_type": "code",
   "execution_count": 9,
   "metadata": {},
   "outputs": [],
   "source": [
    "backtest=pd.DataFrame(test['returns'])"
   ]
  },
  {
   "cell_type": "markdown",
   "metadata": {},
   "source": [
    "## Pre-processing the features"
   ]
  },
  {
   "cell_type": "markdown",
   "metadata": {},
   "source": [
    "If we have a quick look at the data that we generated, we can see that all the variables are very different numerically among them. They have very different distributions, represented with the mean and std. Given that the neuronal network models prefer homogeneous features, we normalize them with the technique of moment matching, adjusting them by the mean and variance. \n",
    "\n",
    "Before normalizing them, we created 5 lags of every feature, considering that we can obtain useful information from previous observations."
   ]
  },
  {
   "cell_type": "code",
   "execution_count": 10,
   "metadata": {},
   "outputs": [
    {
     "data": {
      "text/html": [
       "<div>\n",
       "<style scoped>\n",
       "    .dataframe tbody tr th:only-of-type {\n",
       "        vertical-align: middle;\n",
       "    }\n",
       "\n",
       "    .dataframe tbody tr th {\n",
       "        vertical-align: top;\n",
       "    }\n",
       "\n",
       "    .dataframe thead th {\n",
       "        text-align: right;\n",
       "    }\n",
       "</style>\n",
       "<table border=\"1\" class=\"dataframe\">\n",
       "  <thead>\n",
       "    <tr style=\"text-align: right;\">\n",
       "      <th></th>\n",
       "      <th>price</th>\n",
       "      <th>returns</th>\n",
       "      <th>direction</th>\n",
       "      <th>SMA1</th>\n",
       "      <th>SMA2</th>\n",
       "      <th>dSMA</th>\n",
       "      <th>EWMA1</th>\n",
       "      <th>EWMA2</th>\n",
       "      <th>dEWMA</th>\n",
       "      <th>vol1</th>\n",
       "      <th>vol2</th>\n",
       "    </tr>\n",
       "  </thead>\n",
       "  <tbody>\n",
       "    <tr>\n",
       "      <th>count</th>\n",
       "      <td>780.000000</td>\n",
       "      <td>780.000000</td>\n",
       "      <td>780.000000</td>\n",
       "      <td>780.000000</td>\n",
       "      <td>780.000000</td>\n",
       "      <td>780.000000</td>\n",
       "      <td>780.000000</td>\n",
       "      <td>780.000000</td>\n",
       "      <td>780.000000</td>\n",
       "      <td>780.000000</td>\n",
       "      <td>780.000000</td>\n",
       "    </tr>\n",
       "    <tr>\n",
       "      <th>mean</th>\n",
       "      <td>120.067462</td>\n",
       "      <td>0.001362</td>\n",
       "      <td>0.569231</td>\n",
       "      <td>118.220007</td>\n",
       "      <td>114.991689</td>\n",
       "      <td>3.228318</td>\n",
       "      <td>115.318466</td>\n",
       "      <td>107.749919</td>\n",
       "      <td>7.568547</td>\n",
       "      <td>2.927770</td>\n",
       "      <td>4.975012</td>\n",
       "    </tr>\n",
       "    <tr>\n",
       "      <th>std</th>\n",
       "      <td>34.935040</td>\n",
       "      <td>0.019199</td>\n",
       "      <td>0.495502</td>\n",
       "      <td>33.649776</td>\n",
       "      <td>31.798556</td>\n",
       "      <td>4.656363</td>\n",
       "      <td>32.078852</td>\n",
       "      <td>29.272699</td>\n",
       "      <td>3.590359</td>\n",
       "      <td>2.382535</td>\n",
       "      <td>3.585582</td>\n",
       "    </tr>\n",
       "    <tr>\n",
       "      <th>min</th>\n",
       "      <td>68.169998</td>\n",
       "      <td>-0.159453</td>\n",
       "      <td>0.000000</td>\n",
       "      <td>69.767000</td>\n",
       "      <td>68.044000</td>\n",
       "      <td>-15.266666</td>\n",
       "      <td>68.456787</td>\n",
       "      <td>64.489750</td>\n",
       "      <td>1.355698</td>\n",
       "      <td>0.509160</td>\n",
       "      <td>1.004940</td>\n",
       "    </tr>\n",
       "    <tr>\n",
       "      <th>25%</th>\n",
       "      <td>93.777498</td>\n",
       "      <td>-0.006144</td>\n",
       "      <td>0.000000</td>\n",
       "      <td>92.410500</td>\n",
       "      <td>91.373208</td>\n",
       "      <td>1.001042</td>\n",
       "      <td>90.881468</td>\n",
       "      <td>83.881947</td>\n",
       "      <td>5.204873</td>\n",
       "      <td>1.564676</td>\n",
       "      <td>2.711254</td>\n",
       "    </tr>\n",
       "    <tr>\n",
       "      <th>50%</th>\n",
       "      <td>110.450001</td>\n",
       "      <td>0.001620</td>\n",
       "      <td>1.000000</td>\n",
       "      <td>108.911250</td>\n",
       "      <td>108.628084</td>\n",
       "      <td>2.959333</td>\n",
       "      <td>108.107541</td>\n",
       "      <td>103.675551</td>\n",
       "      <td>7.334794</td>\n",
       "      <td>2.268061</td>\n",
       "      <td>3.692789</td>\n",
       "    </tr>\n",
       "    <tr>\n",
       "      <th>75%</th>\n",
       "      <td>139.582500</td>\n",
       "      <td>0.010109</td>\n",
       "      <td>1.000000</td>\n",
       "      <td>138.263250</td>\n",
       "      <td>137.536125</td>\n",
       "      <td>5.555291</td>\n",
       "      <td>136.833791</td>\n",
       "      <td>129.035782</td>\n",
       "      <td>9.090493</td>\n",
       "      <td>3.043236</td>\n",
       "      <td>5.486270</td>\n",
       "    </tr>\n",
       "    <tr>\n",
       "      <th>max</th>\n",
       "      <td>214.320007</td>\n",
       "      <td>0.132929</td>\n",
       "      <td>1.000000</td>\n",
       "      <td>206.477500</td>\n",
       "      <td>192.429667</td>\n",
       "      <td>15.062499</td>\n",
       "      <td>194.357281</td>\n",
       "      <td>174.521590</td>\n",
       "      <td>19.835691</td>\n",
       "      <td>13.996962</td>\n",
       "      <td>15.446460</td>\n",
       "    </tr>\n",
       "  </tbody>\n",
       "</table>\n",
       "</div>"
      ],
      "text/plain": [
       "            price     returns   direction        SMA1        SMA2        dSMA  \\\n",
       "count  780.000000  780.000000  780.000000  780.000000  780.000000  780.000000   \n",
       "mean   120.067462    0.001362    0.569231  118.220007  114.991689    3.228318   \n",
       "std     34.935040    0.019199    0.495502   33.649776   31.798556    4.656363   \n",
       "min     68.169998   -0.159453    0.000000   69.767000   68.044000  -15.266666   \n",
       "25%     93.777498   -0.006144    0.000000   92.410500   91.373208    1.001042   \n",
       "50%    110.450001    0.001620    1.000000  108.911250  108.628084    2.959333   \n",
       "75%    139.582500    0.010109    1.000000  138.263250  137.536125    5.555291   \n",
       "max    214.320007    0.132929    1.000000  206.477500  192.429667   15.062499   \n",
       "\n",
       "            EWMA1       EWMA2       dEWMA        vol1        vol2  \n",
       "count  780.000000  780.000000  780.000000  780.000000  780.000000  \n",
       "mean   115.318466  107.749919    7.568547    2.927770    4.975012  \n",
       "std     32.078852   29.272699    3.590359    2.382535    3.585582  \n",
       "min     68.456787   64.489750    1.355698    0.509160    1.004940  \n",
       "25%     90.881468   83.881947    5.204873    1.564676    2.711254  \n",
       "50%    108.107541  103.675551    7.334794    2.268061    3.692789  \n",
       "75%    136.833791  129.035782    9.090493    3.043236    5.486270  \n",
       "max    194.357281  174.521590   19.835691   13.996962   15.446460  "
      ]
     },
     "execution_count": 10,
     "metadata": {},
     "output_type": "execute_result"
    }
   ],
   "source": [
    "test.describe()"
   ]
  },
  {
   "cell_type": "code",
   "execution_count": 11,
   "metadata": {},
   "outputs": [],
   "source": [
    "#Creating the lags\n",
    "features = list(data.columns)\n",
    "cols = list(data.columns)\n",
    "for f in features:    \n",
    "    #Create lags\n",
    "    for lag in range(1, 5 + 1):\n",
    "        col = f'{f}_lag_{lag}'\n",
    "        cols.append(col)\n",
    "        train[col] = train[f].shift(lag)\n",
    "        test[col] = test[f].shift(lag)\n",
    "\n",
    "train.dropna(inplace=True)\n",
    "test.dropna(inplace=True)   "
   ]
  },
  {
   "cell_type": "code",
   "execution_count": 12,
   "metadata": {},
   "outputs": [],
   "source": [
    "#Normalizes variables\n",
    "for f in cols:    \n",
    "    if 'rets' not in f and 'direction' not in f:\n",
    "        Tmean = train[f].mean()\n",
    "        Tstd  = train[f].std()\n",
    "        train[f]= (train[f] - Tmean) / Tstd\n",
    "        test[f] = (test[f]  - Tmean) / Tstd    "
   ]
  },
  {
   "cell_type": "markdown",
   "metadata": {},
   "source": [
    "For simplicity at the moment of the modelling process, we divided the data frames into two.\n",
    "The `X` that represent the features and `y` is the target variable to forecast."
   ]
  },
  {
   "cell_type": "code",
   "execution_count": 13,
   "metadata": {},
   "outputs": [],
   "source": [
    "y_train = pd.DataFrame(train['direction'])\n",
    "y_test = pd.DataFrame(test['direction'])\n",
    "X_train = train.drop(columns=['direction','returns','price']).copy()\n",
    "X_test = test.drop(columns=['direction','returns','price']).copy()"
   ]
  },
  {
   "cell_type": "code",
   "execution_count": 14,
   "metadata": {
    "scrolled": true
   },
   "outputs": [
    {
     "name": "stdout",
     "output_type": "stream",
     "text": [
      "<class 'pandas.core.frame.DataFrame'>\n",
      "DatetimeIndex: 1812 entries, 2010-04-08 to 2017-06-16\n",
      "Data columns (total 63 columns):\n",
      " #   Column           Non-Null Count  Dtype  \n",
      "---  ------           --------------  -----  \n",
      " 0   SMA1             1812 non-null   float64\n",
      " 1   SMA2             1812 non-null   float64\n",
      " 2   dSMA             1812 non-null   float64\n",
      " 3   EWMA1            1812 non-null   float64\n",
      " 4   EWMA2            1812 non-null   float64\n",
      " 5   dEWMA            1812 non-null   float64\n",
      " 6   vol1             1812 non-null   float64\n",
      " 7   vol2             1812 non-null   float64\n",
      " 8   price_lag_1      1812 non-null   float64\n",
      " 9   price_lag_2      1812 non-null   float64\n",
      " 10  price_lag_3      1812 non-null   float64\n",
      " 11  price_lag_4      1812 non-null   float64\n",
      " 12  price_lag_5      1812 non-null   float64\n",
      " 13  returns_lag_1    1812 non-null   float64\n",
      " 14  returns_lag_2    1812 non-null   float64\n",
      " 15  returns_lag_3    1812 non-null   float64\n",
      " 16  returns_lag_4    1812 non-null   float64\n",
      " 17  returns_lag_5    1812 non-null   float64\n",
      " 18  direction_lag_1  1812 non-null   float64\n",
      " 19  direction_lag_2  1812 non-null   float64\n",
      " 20  direction_lag_3  1812 non-null   float64\n",
      " 21  direction_lag_4  1812 non-null   float64\n",
      " 22  direction_lag_5  1812 non-null   float64\n",
      " 23  SMA1_lag_1       1812 non-null   float64\n",
      " 24  SMA1_lag_2       1812 non-null   float64\n",
      " 25  SMA1_lag_3       1812 non-null   float64\n",
      " 26  SMA1_lag_4       1812 non-null   float64\n",
      " 27  SMA1_lag_5       1812 non-null   float64\n",
      " 28  SMA2_lag_1       1812 non-null   float64\n",
      " 29  SMA2_lag_2       1812 non-null   float64\n",
      " 30  SMA2_lag_3       1812 non-null   float64\n",
      " 31  SMA2_lag_4       1812 non-null   float64\n",
      " 32  SMA2_lag_5       1812 non-null   float64\n",
      " 33  dSMA_lag_1       1812 non-null   float64\n",
      " 34  dSMA_lag_2       1812 non-null   float64\n",
      " 35  dSMA_lag_3       1812 non-null   float64\n",
      " 36  dSMA_lag_4       1812 non-null   float64\n",
      " 37  dSMA_lag_5       1812 non-null   float64\n",
      " 38  EWMA1_lag_1      1812 non-null   float64\n",
      " 39  EWMA1_lag_2      1812 non-null   float64\n",
      " 40  EWMA1_lag_3      1812 non-null   float64\n",
      " 41  EWMA1_lag_4      1812 non-null   float64\n",
      " 42  EWMA1_lag_5      1812 non-null   float64\n",
      " 43  EWMA2_lag_1      1812 non-null   float64\n",
      " 44  EWMA2_lag_2      1812 non-null   float64\n",
      " 45  EWMA2_lag_3      1812 non-null   float64\n",
      " 46  EWMA2_lag_4      1812 non-null   float64\n",
      " 47  EWMA2_lag_5      1812 non-null   float64\n",
      " 48  dEWMA_lag_1      1812 non-null   float64\n",
      " 49  dEWMA_lag_2      1812 non-null   float64\n",
      " 50  dEWMA_lag_3      1812 non-null   float64\n",
      " 51  dEWMA_lag_4      1812 non-null   float64\n",
      " 52  dEWMA_lag_5      1812 non-null   float64\n",
      " 53  vol1_lag_1       1812 non-null   float64\n",
      " 54  vol1_lag_2       1812 non-null   float64\n",
      " 55  vol1_lag_3       1812 non-null   float64\n",
      " 56  vol1_lag_4       1812 non-null   float64\n",
      " 57  vol1_lag_5       1812 non-null   float64\n",
      " 58  vol2_lag_1       1812 non-null   float64\n",
      " 59  vol2_lag_2       1812 non-null   float64\n",
      " 60  vol2_lag_3       1812 non-null   float64\n",
      " 61  vol2_lag_4       1812 non-null   float64\n",
      " 62  vol2_lag_5       1812 non-null   float64\n",
      "dtypes: float64(63)\n",
      "memory usage: 906.0 KB\n"
     ]
    }
   ],
   "source": [
    "X_train.info()"
   ]
  },
  {
   "cell_type": "markdown",
   "metadata": {},
   "source": [
    "Finally, we split the training data frame into training and validation so we can use that 2nd validation to fine-tune our model before making the final decision of our model with the test data frame."
   ]
  },
  {
   "cell_type": "code",
   "execution_count": 15,
   "metadata": {},
   "outputs": [],
   "source": [
    "split = int(len(X_train) * 0.7)\n",
    "partial_X_train = X_train.iloc[split:].copy()\n",
    "X_val = X_train.iloc[:split].copy()\n",
    "partial_y_train = y_train.iloc[split:].copy()\n",
    "y_val = y_train.iloc[:split].copy()"
   ]
  },
  {
   "cell_type": "markdown",
   "metadata": {},
   "source": [
    "## Modelling the Neuronal Network"
   ]
  },
  {
   "cell_type": "code",
   "execution_count": 16,
   "metadata": {},
   "outputs": [
    {
     "name": "stderr",
     "output_type": "stream",
     "text": [
      "Using TensorFlow backend.\n"
     ]
    }
   ],
   "source": [
    "from keras.layers import Dense\n",
    "from keras.models import Sequential\n",
    "from sklearn.metrics import accuracy_score"
   ]
  },
  {
   "cell_type": "markdown",
   "metadata": {},
   "source": [
    "We proceed to compile the model with the Keras package. This time we created a simple Neural Network with two intermediate layers with 64 hidden units each. A third layer would be the output, with only one number representing the probability of a positive market return."
   ]
  },
  {
   "cell_type": "code",
   "execution_count": 17,
   "metadata": {},
   "outputs": [],
   "source": [
    "model = Sequential()\n",
    "    \n",
    "model.add(Dense(64, input_dim=63, activation='relu'))\n",
    "\n",
    "model.add(Dense(64, activation='relu'))\n",
    "\n",
    "model.add(Dense(1, activation='sigmoid'))  \n",
    "    \n",
    "model.compile(loss='binary_crossentropy',  \n",
    "                       optimizer='rmsprop',  \n",
    "                       metrics=['acc'])  "
   ]
  },
  {
   "cell_type": "markdown",
   "metadata": {},
   "source": [
    "The next step after establishing our model is to train it. In other words, we are trying to adjust our data to the previously defined model, setting the different weights of each layer."
   ]
  },
  {
   "cell_type": "code",
   "execution_count": 18,
   "metadata": {},
   "outputs": [],
   "source": [
    "history = model.fit(partial_X_train, \n",
    "                          partial_y_train, \n",
    "                          epochs=30, \n",
    "                          verbose=False,\n",
    "                          validation_data=(X_val,y_val))"
   ]
  },
  {
   "cell_type": "markdown",
   "metadata": {},
   "source": [
    "## Measuring the loss and accuracy of the model"
   ]
  },
  {
   "cell_type": "markdown",
   "metadata": {},
   "source": [
    "Once we have our model fully trained, we can measure the evolution of our model's loss and accuracy. The loss function is the one that our model tries to minimize. In simple words could be the error of our model. On the other hand, the accuracy measures how good the model predicts the actual category of the stock return."
   ]
  },
  {
   "cell_type": "code",
   "execution_count": 19,
   "metadata": {},
   "outputs": [],
   "source": [
    "history_dict = history.history\n",
    "\n",
    "loss_values = history_dict['loss']\n",
    "val_loss_values = history_dict['val_loss']\n",
    "\n",
    "acc_values = history_dict['acc']\n",
    "val_acc_values = history_dict['val_acc']\n",
    "\n",
    "epochs = range(1, len(history_dict['acc']) + 1)"
   ]
  },
  {
   "cell_type": "markdown",
   "metadata": {},
   "source": [
    "As we divided our data in Training and Validation, we can see the evolution of the loss minimized by the model, represented by the blue dots on the chart."
   ]
  },
  {
   "cell_type": "code",
   "execution_count": 20,
   "metadata": {},
   "outputs": [
    {
     "data": {
      "text/plain": [
       "<matplotlib.legend.Legend at 0x7f81a7f45350>"
      ]
     },
     "execution_count": 20,
     "metadata": {},
     "output_type": "execute_result"
    },
    {
     "data": {
      "image/png": "[encoded data removed]",
      "text/plain": [
       "<Figure size 720x432 with 1 Axes>"
      ]
     },
     "metadata": {
      "needs_background": "light"
     },
     "output_type": "display_data"
    }
   ],
   "source": [
    "plt.plot(epochs, loss_values,'bo', label='Training loss')\n",
    "plt.plot(epochs, val_loss_values,'b', label='Validation loss')\n",
    "plt.title('Training and Validation loss',fontweight=\"bold\", pad=20)\n",
    "plt.xlabel('Epochs')\n",
    "plt.ylabel('Loss')\n",
    "plt.legend();\n",
    "# plt.savefig('Loss.png', facecolor='None')"
   ]
  },
  {
   "cell_type": "markdown",
   "metadata": {},
   "source": [
    "We can also see the how the accuracy rises as the model progress in the training."
   ]
  },
  {
   "cell_type": "code",
   "execution_count": 21,
   "metadata": {},
   "outputs": [
    {
     "data": {
      "text/plain": [
       "<matplotlib.legend.Legend at 0x7f81a7fba290>"
      ]
     },
     "execution_count": 21,
     "metadata": {},
     "output_type": "execute_result"
    },
    {
     "data": {
      "image/png": "[encoded data removed]",
      "text/plain": [
       "<Figure size 720x432 with 1 Axes>"
      ]
     },
     "metadata": {
      "needs_background": "light"
     },
     "output_type": "display_data"
    }
   ],
   "source": [
    "plt.plot(epochs, acc_values,'bo', label='Training accuracy')\n",
    "plt.plot(epochs, val_acc_values,'b', label='Validation accuracy')\n",
    "plt.title('Training and Validation accuracy',fontweight=\"bold\", pad=20)\n",
    "plt.xlabel('Epochs')\n",
    "plt.ylabel('Acc')\n",
    "plt.legend();\n",
    "# plt.savefig('Accuracy.png', facecolor='None')"
   ]
  },
  {
   "cell_type": "markdown",
   "metadata": {},
   "source": [
    "However, if we observe the blue line in the loss and accuracy, we can tell that the model doesn't do a good job with out-of-sample data. This problem is known as over-fitting and is very common when trying to model financial data."
   ]
  },
  {
   "cell_type": "markdown",
   "metadata": {},
   "source": [
    "## Backtesting the model"
   ]
  },
  {
   "cell_type": "markdown",
   "metadata": {},
   "source": [
    "The final step of this study is to evaluate the model through a vectorized backtesting with the test data that we haven't used in the modelling process. Before that, we can do a simple calculation to check how many of the model's predictions are right."
   ]
  },
  {
   "cell_type": "code",
   "execution_count": 22,
   "metadata": {},
   "outputs": [
    {
     "data": {
      "text/plain": [
       "0.5703225806451613"
      ]
     },
     "execution_count": 22,
     "metadata": {},
     "output_type": "execute_result"
    }
   ],
   "source": [
    "accuracy_score(model.predict(X_test).round(), y_test)"
   ]
  },
  {
   "cell_type": "markdown",
   "metadata": {},
   "source": [
    "We can see that the model is correct 57% of the times. Even though it is a first approximation, that number does not tell us if the strategy is profitable vs. having the stock. That is why we proceed to calculate the cumulative return of the strategy vs the stock."
   ]
  },
  {
   "cell_type": "code",
   "execution_count": 27,
   "metadata": {},
   "outputs": [],
   "source": [
    "backtest = backtest[5:].copy()\n",
    "\n",
    "backtest['pred']=model.predict(X_test).round()\n",
    "backtest['pred']=np.where(backtest['pred']==1,1,-1)  \n",
    "\n",
    "backtest['strategy'] = backtest['pred'] * backtest['returns']"
   ]
  },
  {
   "cell_type": "markdown",
   "metadata": {},
   "source": [
    "From the chart, we can conclude that the strategy is not effective, given that its return is almost the same as holding the stock.  If we take into consideration the transaction costs, the strategy wouldn't be profitable at all.\n",
    "\n",
    "The good news is that the neuronal network that we modelled was very basic. We can still change the hyperparameters of it to adjust the training data to our model or try new techniques like recurrent neuronal networks that are ideal for predicting time series."
   ]
  },
  {
   "cell_type": "code",
   "execution_count": 28,
   "metadata": {},
   "outputs": [
    {
     "data": {
      "image/png": "[encoded data removed]",
      "text/plain": [
       "<Figure size 720x432 with 1 Axes>"
      ]
     },
     "metadata": {
      "needs_background": "light"
     },
     "output_type": "display_data"
    }
   ],
   "source": [
    "plt.figure()\n",
    "plt.title('Neural Network Strategy',fontweight=\"bold\", pad=20)\n",
    "plt.xlabel('Date')\n",
    "plt.ylabel('Return')\n",
    "plt.plot(backtest['returns'].cumsum().apply(np.exp), label='historical return', color='#0A369D')\n",
    "plt.plot(backtest['strategy'].cumsum().apply(np.exp), label='strategy return', color='#62a8ac')\n",
    "plt.legend(loc=0)\n",
    "plt.setp(plt.xticks()[1], rotation=30, ha='right');\n",
    "# plt.savefig('classification_strategy.png', facecolor='None')"
   ]
  },
  {
   "cell_type": "markdown",
   "metadata": {},
   "source": [
    "## Conclusion"
   ]
  },
  {
   "cell_type": "markdown",
   "metadata": {},
   "source": [
    "As we move forward, looking for the perfect Algorithmic Trading Strategy, we progressed into more complex models. Even though Neuronal Networks adapt better to the market's behaviour, we encounter the problem of over-fitting that we will try to solve in future posts. As we progress, we will try to be closer to reality, adding transaction costs and switching from vectorized backtesting to event-based backtesting. \n",
    "\n",
    "We will also try to build more complex Neuronal Networks to solve the problem of over-fitting, including the optimization of hyperparameters and modelling Recurrent Neuronal Networks."
   ]
  },
  {
   "cell_type": "markdown",
   "metadata": {},
   "source": [
    "## References"
   ]
  },
  {
   "cell_type": "markdown",
   "metadata": {},
   "source": [
    "Inspired by the book *Artificial Intelligence for Finance* by Yves Hilpisch.\n",
    "\n",
    "<img src=\"https://images-na.ssl-images-amazon.com/images/I/51VEL0RZbzL._SX379_BO1,204,203,200_.jpg\" width=\"250\" style=\"float:left\">"
   ]
  },
  {
   "cell_type": "markdown",
   "metadata": {},
   "source": [
    "and the book *Deep Learning with Python* by François Chollet.\n",
    "\n",
    "<img src=\"https://images-na.ssl-images-amazon.com/images/I/41PYcD28fIL._SX397_BO1,204,203,200_.jpg\" width=\"250\" style=\"float:left\">\n"
   ]
  },
  {
   "cell_type": "markdown",
   "metadata": {},
   "source": [
    "<a href=\"http://www.road2quant.com\">\n",
    "    <img src=\"https://uploads-ssl.webflow.com/5eae007d92687089219c5dec/5eb47da29ced78042e9768ce_long_logo.png\" target=\"_blank\" align=\"right\" border=\"0\" width=\"35%\" >\n",
    "</a>"
   ]
  }
 ],
 "metadata": {
  "kernelspec": {
   "display_name": "Python 3",
   "language": "python",
   "name": "python3"
  },
  "language_info": {
   "codemirror_mode": {
    "name": "ipython",
    "version": 3
   },
   "file_extension": ".py",
   "mimetype": "text/x-python",
   "name": "python",
   "nbconvert_exporter": "python",
   "pygments_lexer": "ipython3",
   "version": "3.7.7"
  }
 },
 "nbformat": 4,
 "nbformat_minor": 4
}
